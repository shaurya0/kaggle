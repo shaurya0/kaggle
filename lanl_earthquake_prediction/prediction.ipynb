{
 "cells": [
  {
   "cell_type": "code",
   "execution_count": 1,
   "metadata": {},
   "outputs": [
    {
     "name": "stderr",
     "output_type": "stream",
     "text": [
      "/Users/shauryas/anaconda3/lib/python3.6/site-packages/h5py/__init__.py:36: FutureWarning: Conversion of the second argument of issubdtype from `float` to `np.floating` is deprecated. In future, it will be treated as `np.float64 == np.dtype(float).type`.\n",
      "  from ._conv import register_converters as _register_converters\n"
     ]
    }
   ],
   "source": [
    "import numpy as np\n",
    "import pandas as pd \n",
    "from glob import glob\n",
    "from os import path\n",
    "import matplotlib.pyplot as plt\n",
    "from torch.utils.data.dataset import Dataset\n",
    "import torch\n",
    "import torch.nn as nn\n",
    "import torch.nn.functional as F\n",
    "from sklearn import preprocessing\n",
    "from torch.autograd import Variable\n",
    "import torch.utils.data as utils\n",
    "import tensorflow as tf"
   ]
  },
  {
   "cell_type": "code",
   "execution_count": 2,
   "metadata": {},
   "outputs": [],
   "source": [
    "train_file = r'data/train/train.csv'\n",
    "test_path = r'data/test'\n",
    "test_files = glob(path.join(test_path, '*.csv'))"
   ]
  },
  {
   "cell_type": "code",
   "execution_count": 3,
   "metadata": {},
   "outputs": [],
   "source": [
    "def create_numpy_files(train_csv_file, output_folder):\n",
    "    if path.exists(path.join(output_folder, 'train_acoustic_data.npy')):\n",
    "        print('Numpy array exists, skipping')\n",
    "        return\n",
    "    \n",
    "    train_df_chunked = pd.read_csv(train_csv_file, chunksize=10000000)\n",
    "    acoustic_data_filepath = path.join(output_folder, 'train_acoustic_data')\n",
    "    \n",
    "    ttf_filepath = path.join(output_folder, 'train_time_to_failure')\n",
    "    acoustic_data = list()\n",
    "    time_to_failure = list()\n",
    "\n",
    "    for chunk in train_df_chunked:\n",
    "        a = chunk['acoustic_data'].values\n",
    "        t = chunk['time_to_failure'].values\n",
    "        acoustic_data.append(a.astype(np.int16))\n",
    "        time_to_failure.append(t.astype(np.float32))\n",
    "    \n",
    "    acoustic_data = np.concatenate(acoustic_data)\n",
    "    time_to_failure = np.concatenate(time_to_failure)\n",
    "    np.save(acoustic_data_filepath, acoustic_data)\n",
    "    np.save(ttf_filepath, time_to_failure)\n",
    "        \n",
    "    "
   ]
  },
  {
   "cell_type": "code",
   "execution_count": 67,
   "metadata": {},
   "outputs": [
    {
     "name": "stdout",
     "output_type": "stream",
     "text": [
      "Numpy array exists, skipping\n"
     ]
    }
   ],
   "source": [
    "create_numpy_files(train_csv_file=train_file, output_folder='data')"
   ]
  },
  {
   "cell_type": "code",
   "execution_count": 68,
   "metadata": {},
   "outputs": [],
   "source": [
    "def load_train_data_from_numpy_files(folder):\n",
    "    acoustic_data = np.load(path.join(folder, 'train_acoustic_data.npy'))\n",
    "    time_to_failure = np.load(path.join(folder, 'train_time_to_failure.npy'))\n",
    "    return acoustic_data, time_to_failure"
   ]
  },
  {
   "cell_type": "code",
   "execution_count": 69,
   "metadata": {},
   "outputs": [],
   "source": [
    "acoustic_data, time_to_failure = load_train_data_from_numpy_files('data')"
   ]
  },
  {
   "cell_type": "code",
   "execution_count": 70,
   "metadata": {},
   "outputs": [],
   "source": [
    "acoustic_data = np.expand_dims(acoustic_data, axis=1)\n",
    "time_to_failure = np.expand_dims(time_to_failure, axis=1)"
   ]
  },
  {
   "cell_type": "code",
   "execution_count": 71,
   "metadata": {},
   "outputs": [],
   "source": [
    "SEGMENT_SIZE = 150000\n",
    "step_size = 5000"
   ]
  },
  {
   "cell_type": "code",
   "execution_count": 72,
   "metadata": {},
   "outputs": [],
   "source": [
    "ends_mask = np.less(time_to_failure[:-1], time_to_failure[1:])\n",
    "segment_ends = np.nonzero(ends_mask)[0]"
   ]
  },
  {
   "cell_type": "code",
   "execution_count": 73,
   "metadata": {},
   "outputs": [],
   "source": [
    "del ends_mask"
   ]
  },
  {
   "cell_type": "code",
   "execution_count": 74,
   "metadata": {},
   "outputs": [],
   "source": [
    "segments = list()\n",
    "start = 0\n",
    "for e in segment_ends:\n",
    "    segments.append((start, e))\n",
    "    start = e\n"
   ]
  },
  {
   "cell_type": "code",
   "execution_count": 75,
   "metadata": {},
   "outputs": [],
   "source": [
    "segments_split_idx = int(0.8*len(segments))"
   ]
  },
  {
   "cell_type": "code",
   "execution_count": 76,
   "metadata": {},
   "outputs": [],
   "source": [
    "train_segments = segments[:segments_split_idx]\n",
    "test_segments = segments[segments_split_idx:]"
   ]
  },
  {
   "cell_type": "code",
   "execution_count": 77,
   "metadata": {},
   "outputs": [],
   "source": [
    "scaler = preprocessing.StandardScaler(copy=False)"
   ]
  },
  {
   "cell_type": "code",
   "execution_count": 78,
   "metadata": {},
   "outputs": [
    {
     "name": "stderr",
     "output_type": "stream",
     "text": [
      "/Users/shauryas/anaconda3/lib/python3.6/site-packages/sklearn/utils/validation.py:475: DataConversionWarning: Data with input dtype int16 was converted to float64 by StandardScaler.\n",
      "  warnings.warn(msg, DataConversionWarning)\n"
     ]
    }
   ],
   "source": [
    "for se in train_segments:\n",
    "    start = se[0]\n",
    "    end = se[1]\n",
    "    scaler.partial_fit(acoustic_data[start:end])"
   ]
  },
  {
   "cell_type": "code",
   "execution_count": 79,
   "metadata": {},
   "outputs": [],
   "source": [
    "class LANLDataset(Dataset):\n",
    "    def __init__(self, X, y, segments, step_size, segment_size=SEGMENT_SIZE, scaler=None):\n",
    "        self.X = X \n",
    "        self.y = y \n",
    "        self.segments = segments \n",
    "        self.segment_idx = 0\n",
    "        self.step_size = step_size \n",
    "        self.segment_size = segment_size\n",
    "        self.scaler = scaler        \n",
    "        self._calculate_len()\n",
    "        self._assign_iterator()\n",
    "\n",
    "        \n",
    "    def _calculate_len(self):   \n",
    "        self.len = 0\n",
    "        for s in segments:\n",
    "            start = s[0]\n",
    "            end = s[1]\n",
    "            assert(end > start + self.segment_size)\n",
    "            L = len(range(start + self.segment_size, end, self.step_size)) + 1\n",
    "            self.len += L\n",
    "            \n",
    "    def _assign_iterator(self):\n",
    "        idx = (self.segment_idx + 1) % len(self.segments)\n",
    "        start = self.segments[idx][0] + self.segment_size\n",
    "        end = self.segments[idx][1]\n",
    "        self.range = range(start, end, self.step_size)\n",
    "        self.iterator = iter(self.range)\n",
    "        \n",
    "            \n",
    "    def __len__(self):\n",
    "        return self.len        \n",
    "    \n",
    "    def __getitem__(self, idx):\n",
    "        try:\n",
    "            end_offset = next(self.iterator)            \n",
    "        except StopIteration:\n",
    "            end_offset = self.range.stop                                        \n",
    "            self._assign_iterator()\n",
    "                \n",
    "        start_offset = end_offset - self.segment_size            \n",
    "            \n",
    "        data = self.X[start_offset:end_offset].astype(np.float32)\n",
    "        targets = self.y[end_offset]\n",
    "        if self.scaler is not None:\n",
    "            data = self.scaler.transform(data, copy=True)\n",
    "        \n",
    "        return data, targets\n",
    "            \n",
    "        \n",
    "            \n",
    "            \n",
    "            \n",
    "        \n",
    "        "
   ]
  },
  {
   "cell_type": "code",
   "execution_count": 80,
   "metadata": {},
   "outputs": [],
   "source": [
    "batch_size=4"
   ]
  },
  {
   "cell_type": "code",
   "execution_count": 81,
   "metadata": {},
   "outputs": [],
   "source": [
    "def test_lanl_dataset(acoustic_data, time_to_failure, segments):    \n",
    "    dataset = LANLDataset(acoustic_data, time_to_failure, segments, \n",
    "                           step_size=step_size, segment_size=SEGMENT_SIZE)\n",
    "\n",
    "    dataloader = torch.utils.data.DataLoader(dataset, batch_size=1, shuffle=False, num_workers=0)\n",
    "\n",
    "    it = dataloader.__iter__()\n",
    "    for ii,segment in enumerate(segments_):\n",
    "        start = segment[0]\n",
    "        end = segment[1]\n",
    "        stop = False\n",
    "        for j in range(start, end, step_size):\n",
    "            xx = acoustic_data[j:j+SEGMENT_SIZE]      \n",
    "            yy = time_to_failure[j+SEGMENT_SIZE]\n",
    "\n",
    "            try:\n",
    "                aa, bb = next(it)\n",
    "            except StopIteration:\n",
    "                print('STOP ITERATION ', ii, j)\n",
    "            if j + SEGMENT_SIZE >= end:\n",
    "                xx = acoustic_data[end - SEGMENT_SIZE:end]\n",
    "                yy = time_to_failure[end]\n",
    "                stop=True\n",
    "\n",
    "            error = np.sum(xx-aa.numpy()[0])\n",
    "            if error != 0.0:\n",
    "                print('ERROR ', j, error)\n",
    "\n",
    "            if stop:\n",
    "                break\n",
    "    try:\n",
    "        next(it)\n",
    "    except StopIteration:\n",
    "        print('done')\n",
    "        \n",
    "\n",
    "    \n",
    "    \n",
    "    "
   ]
  },
  {
   "cell_type": "code",
   "execution_count": 82,
   "metadata": {},
   "outputs": [],
   "source": [
    "# test_lanl_dataset(acoustic_data, time_to_failure, segments)"
   ]
  },
  {
   "cell_type": "code",
   "execution_count": 83,
   "metadata": {},
   "outputs": [],
   "source": [
    "train_segments = [segments[0]]"
   ]
  },
  {
   "cell_type": "code",
   "execution_count": 84,
   "metadata": {},
   "outputs": [],
   "source": [
    "lanl_train_dataset = LANLDataset(acoustic_data, time_to_failure, train_segments, \n",
    "                           step_size=step_size, segment_size=SEGMENT_SIZE, scaler=scaler)"
   ]
  },
  {
   "cell_type": "code",
   "execution_count": 85,
   "metadata": {},
   "outputs": [],
   "source": [
    "train_dataloader = torch.utils.data.DataLoader(lanl_train_dataset, batch_size=batch_size, shuffle=False, num_workers=0)"
   ]
  },
  {
   "cell_type": "code",
   "execution_count": 86,
   "metadata": {},
   "outputs": [],
   "source": [
    "device = torch.device(\"cuda\" if torch.cuda.is_available() else \"cpu\")"
   ]
  },
  {
   "cell_type": "code",
   "execution_count": 87,
   "metadata": {},
   "outputs": [],
   "source": [
    "class LANLModel(nn.Module):\n",
    "    def __init__(self, batch_size, segment_size=SEGMENT_SIZE):\n",
    "        super(LANLModel, self).__init__()\n",
    "        self.batch_size = batch_size\n",
    "        self.segment_size = segment_size\n",
    "        self.conv1 = nn.Conv1d(1,16,kernel_size=11,stride=7)\n",
    "        self.pool1 = nn.AvgPool1d(10)\n",
    "        self.relu = nn.ReLU()\n",
    "        self.conv2 = nn.Conv1d(self.conv1.out_channels, 32, kernel_size=5, stride=3)\n",
    "        self.pool2 = nn.AvgPool1d(3)\n",
    "        self.lstm = nn.LSTM(input_size=237, hidden_size=64, num_layers=1, batch_first=True, bidirectional=True)\n",
    "        self.linear = nn.Linear(128, 1)\n",
    "        \n",
    "        \n",
    "    def forward(self, x):\n",
    "        x = x.transpose(-1,-2)\n",
    "        x = self.conv1(x)\n",
    "        x = self.pool1(x)\n",
    "        x = self.relu(x)\n",
    "        x = self.conv2(x)\n",
    "        x = self.pool2(x)\n",
    "        x = self.relu(x)\n",
    "        x,_ = self.lstm(x)\n",
    "        \n",
    "        x = self.linear(x[:,-1])\n",
    "        return x\n",
    "        "
   ]
  },
  {
   "cell_type": "code",
   "execution_count": 88,
   "metadata": {},
   "outputs": [],
   "source": [
    "learning_rate = 1e-3\n",
    "model = LANLModel(batch_size=batch_size)\n",
    "loss_fn = torch.nn.MSELoss()\n",
    "\n",
    "optimizer = torch.optim.Adam(model.parameters(), lr=learning_rate)\n"
   ]
  },
  {
   "cell_type": "code",
   "execution_count": 89,
   "metadata": {},
   "outputs": [],
   "source": [
    "def count_parameters(model):\n",
    "    return sum(p.numel() for p in model.parameters() if p.requires_grad)"
   ]
  },
  {
   "cell_type": "code",
   "execution_count": 90,
   "metadata": {},
   "outputs": [
    {
     "data": {
      "text/plain": [
       "158049"
      ]
     },
     "execution_count": 90,
     "metadata": {},
     "output_type": "execute_result"
    }
   ],
   "source": [
    "count_parameters(model)"
   ]
  },
  {
   "cell_type": "code",
   "execution_count": 91,
   "metadata": {},
   "outputs": [],
   "source": [
    "if torch.cuda.is_available():\n",
    "    model.cuda()"
   ]
  },
  {
   "cell_type": "code",
   "execution_count": 92,
   "metadata": {},
   "outputs": [
    {
     "name": "stdout",
     "output_type": "stream",
     "text": [
      "2.011781930923462\n",
      "0.07692489345589365\n",
      "0.0002556336320412811\n",
      "0.12497828779459269\n",
      "0.0045576704796447135\n",
      "0.0008293036422128353\n",
      "0.15043276524438626\n",
      "0.0007396474149300047\n",
      "0.0007766483907471411\n",
      "0.17401542290463112\n",
      "0.0007846757121171777\n",
      "0.00040390212469901596\n",
      "0.12279064118448786\n",
      "0.0004999761789804324\n",
      "0.11673823950821031\n",
      "0.004220626076485132\n",
      "0.0004219115480259461\n",
      "0.1842719793283868\n",
      "0.0017650774040748728\n",
      "0.0011698018601782679\n",
      "0.1661822741459946\n"
     ]
    },
    {
     "ename": "KeyboardInterrupt",
     "evalue": "",
     "output_type": "error",
     "traceback": [
      "\u001b[0;31m---------------------------------------------------------------------------\u001b[0m",
      "\u001b[0;31mKeyboardInterrupt\u001b[0m                         Traceback (most recent call last)",
      "\u001b[0;32m<ipython-input-92-b1b39178fdb1>\u001b[0m in \u001b[0;36m<module>\u001b[0;34m()\u001b[0m\n\u001b[1;32m     14\u001b[0m             \u001b[0mlosses\u001b[0m \u001b[0;34m=\u001b[0m \u001b[0;34m[\u001b[0m\u001b[0;34m]\u001b[0m\u001b[0;34m\u001b[0m\u001b[0m\n\u001b[1;32m     15\u001b[0m         \u001b[0moptimizer\u001b[0m\u001b[0;34m.\u001b[0m\u001b[0mzero_grad\u001b[0m\u001b[0;34m(\u001b[0m\u001b[0;34m)\u001b[0m\u001b[0;34m\u001b[0m\u001b[0m\n\u001b[0;32m---> 16\u001b[0;31m         \u001b[0mloss\u001b[0m\u001b[0;34m.\u001b[0m\u001b[0mbackward\u001b[0m\u001b[0;34m(\u001b[0m\u001b[0;34m)\u001b[0m\u001b[0;34m\u001b[0m\u001b[0m\n\u001b[0m\u001b[1;32m     17\u001b[0m         \u001b[0moptimizer\u001b[0m\u001b[0;34m.\u001b[0m\u001b[0mstep\u001b[0m\u001b[0;34m(\u001b[0m\u001b[0;34m)\u001b[0m\u001b[0;34m\u001b[0m\u001b[0m\n\u001b[1;32m     18\u001b[0m \u001b[0;34m\u001b[0m\u001b[0m\n",
      "\u001b[0;32m~/anaconda3/lib/python3.6/site-packages/torch/tensor.py\u001b[0m in \u001b[0;36mbackward\u001b[0;34m(self, gradient, retain_graph, create_graph)\u001b[0m\n\u001b[1;32m     91\u001b[0m                 \u001b[0mproducts\u001b[0m\u001b[0;34m.\u001b[0m \u001b[0mDefaults\u001b[0m \u001b[0mto\u001b[0m\u001b[0;31m \u001b[0m\u001b[0;31m`\u001b[0m\u001b[0;31m`\u001b[0m\u001b[0;32mFalse\u001b[0m\u001b[0;31m`\u001b[0m\u001b[0;31m`\u001b[0m\u001b[0;34m.\u001b[0m\u001b[0;34m\u001b[0m\u001b[0m\n\u001b[1;32m     92\u001b[0m         \"\"\"\n\u001b[0;32m---> 93\u001b[0;31m         \u001b[0mtorch\u001b[0m\u001b[0;34m.\u001b[0m\u001b[0mautograd\u001b[0m\u001b[0;34m.\u001b[0m\u001b[0mbackward\u001b[0m\u001b[0;34m(\u001b[0m\u001b[0mself\u001b[0m\u001b[0;34m,\u001b[0m \u001b[0mgradient\u001b[0m\u001b[0;34m,\u001b[0m \u001b[0mretain_graph\u001b[0m\u001b[0;34m,\u001b[0m \u001b[0mcreate_graph\u001b[0m\u001b[0;34m)\u001b[0m\u001b[0;34m\u001b[0m\u001b[0m\n\u001b[0m\u001b[1;32m     94\u001b[0m \u001b[0;34m\u001b[0m\u001b[0m\n\u001b[1;32m     95\u001b[0m     \u001b[0;32mdef\u001b[0m \u001b[0mregister_hook\u001b[0m\u001b[0;34m(\u001b[0m\u001b[0mself\u001b[0m\u001b[0;34m,\u001b[0m \u001b[0mhook\u001b[0m\u001b[0;34m)\u001b[0m\u001b[0;34m:\u001b[0m\u001b[0;34m\u001b[0m\u001b[0m\n",
      "\u001b[0;32m~/anaconda3/lib/python3.6/site-packages/torch/autograd/__init__.py\u001b[0m in \u001b[0;36mbackward\u001b[0;34m(tensors, grad_tensors, retain_graph, create_graph, grad_variables)\u001b[0m\n\u001b[1;32m     88\u001b[0m     Variable._execution_engine.run_backward(\n\u001b[1;32m     89\u001b[0m         \u001b[0mtensors\u001b[0m\u001b[0;34m,\u001b[0m \u001b[0mgrad_tensors\u001b[0m\u001b[0;34m,\u001b[0m \u001b[0mretain_graph\u001b[0m\u001b[0;34m,\u001b[0m \u001b[0mcreate_graph\u001b[0m\u001b[0;34m,\u001b[0m\u001b[0;34m\u001b[0m\u001b[0m\n\u001b[0;32m---> 90\u001b[0;31m         allow_unreachable=True)  # allow_unreachable flag\n\u001b[0m\u001b[1;32m     91\u001b[0m \u001b[0;34m\u001b[0m\u001b[0m\n\u001b[1;32m     92\u001b[0m \u001b[0;34m\u001b[0m\u001b[0m\n",
      "\u001b[0;31mKeyboardInterrupt\u001b[0m: "
     ]
    }
   ],
   "source": [
    "num_epochs = 1\n",
    "\n",
    "optimizer.zero_grad()\n",
    "for e in range(num_epochs):\n",
    "    losses = []\n",
    "    for ii,(batch_data, batch_label) in enumerate(train_dataloader):    \n",
    "        batch_data, batch_label = batch_data.to(device), batch_label.to(device)\n",
    "        \n",
    "        y_pred = model(batch_data)\n",
    "        loss = loss_fn(y_pred, batch_label)\n",
    "        losses.append(loss.item())\n",
    "        if (ii % 100) == 0:\n",
    "            print(np.mean(losses))\n",
    "            losses = []\n",
    "        optimizer.zero_grad()\n",
    "        loss.backward()\n",
    "        optimizer.step()\n",
    "        \n",
    "\n"
   ]
  },
  {
   "cell_type": "code",
   "execution_count": null,
   "metadata": {},
   "outputs": [],
   "source": []
  }
 ],
 "metadata": {
  "kernelspec": {
   "display_name": "Python 3",
   "language": "python",
   "name": "python3"
  },
  "language_info": {
   "codemirror_mode": {
    "name": "ipython",
    "version": 3
   },
   "file_extension": ".py",
   "mimetype": "text/x-python",
   "name": "python",
   "nbconvert_exporter": "python",
   "pygments_lexer": "ipython3",
   "version": "3.6.5"
  }
 },
 "nbformat": 4,
 "nbformat_minor": 2
}
