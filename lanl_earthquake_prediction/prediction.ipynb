{
 "cells": [
  {
   "cell_type": "code",
   "execution_count": 1,
   "metadata": {},
   "outputs": [
    {
     "name": "stderr",
     "output_type": "stream",
     "text": [
      "c:\\users\\shaur\\appdata\\local\\continuum\\anaconda3\\lib\\site-packages\\h5py\\__init__.py:36: FutureWarning: Conversion of the second argument of issubdtype from `float` to `np.floating` is deprecated. In future, it will be treated as `np.float64 == np.dtype(float).type`.\n",
      "  from ._conv import register_converters as _register_converters\n"
     ]
    }
   ],
   "source": [
    "import numpy as np\n",
    "import pandas as pd \n",
    "from glob import glob\n",
    "from os import path\n",
    "import matplotlib.pyplot as plt\n",
    "from torch.utils.data.dataset import Dataset\n",
    "import torch\n",
    "import torch.nn as nn\n",
    "import torch.nn.functional as F\n",
    "from sklearn import preprocessing\n",
    "from torch.autograd import Variable\n",
    "import torch.utils.data as utils\n",
    "import tensorflow as tf"
   ]
  },
  {
   "cell_type": "code",
   "execution_count": 2,
   "metadata": {},
   "outputs": [],
   "source": [
    "train_file = r'data/train/train.csv'\n",
    "test_path = r'data/test'\n",
    "test_files = glob(path.join(test_path, '*.csv'))"
   ]
  },
  {
   "cell_type": "code",
   "execution_count": 3,
   "metadata": {},
   "outputs": [],
   "source": [
    "def create_numpy_files(train_csv_file, output_folder):\n",
    "    if path.exists(path.join(output_folder, 'train_acoustic_data.npy')):\n",
    "        print('Numpy array exists, skipping')\n",
    "        return\n",
    "    \n",
    "    train_df_chunked = pd.read_csv(train_csv_file, chunksize=10000000)\n",
    "    acoustic_data_filepath = path.join(output_folder, 'train_acoustic_data')\n",
    "    \n",
    "    ttf_filepath = path.join(output_folder, 'train_time_to_failure')\n",
    "    acoustic_data = list()\n",
    "    time_to_failure = list()\n",
    "\n",
    "    for chunk in train_df_chunked:\n",
    "        a = chunk['acoustic_data'].values\n",
    "        t = chunk['time_to_failure'].values\n",
    "        acoustic_data.append(a.astype(np.int16))\n",
    "        time_to_failure.append(t.astype(np.float32))\n",
    "    \n",
    "    acoustic_data = np.concatenate(acoustic_data)\n",
    "    time_to_failure = np.concatenate(time_to_failure)\n",
    "    np.save(acoustic_data_filepath, acoustic_data)\n",
    "    np.save(ttf_filepath, time_to_failure)\n",
    "        \n",
    "    "
   ]
  },
  {
   "cell_type": "code",
   "execution_count": 4,
   "metadata": {},
   "outputs": [
    {
     "name": "stdout",
     "output_type": "stream",
     "text": [
      "Numpy array exists, skipping\n"
     ]
    }
   ],
   "source": [
    "create_numpy_files(train_csv_file=train_file, output_folder='data')"
   ]
  },
  {
   "cell_type": "code",
   "execution_count": 5,
   "metadata": {},
   "outputs": [],
   "source": [
    "def load_train_data_from_numpy_files(folder):\n",
    "    acoustic_data = np.load(path.join(folder, 'train_acoustic_data.npy'))\n",
    "    time_to_failure = np.load(path.join(folder, 'train_time_to_failure.npy'))\n",
    "    return acoustic_data, time_to_failure"
   ]
  },
  {
   "cell_type": "code",
   "execution_count": 6,
   "metadata": {},
   "outputs": [],
   "source": [
    "acoustic_data, time_to_failure = load_train_data_from_numpy_files('data')"
   ]
  },
  {
   "cell_type": "code",
   "execution_count": 7,
   "metadata": {},
   "outputs": [],
   "source": [
    "acoustic_data = np.expand_dims(acoustic_data, axis=1)"
   ]
  },
  {
   "cell_type": "code",
   "execution_count": 8,
   "metadata": {},
   "outputs": [],
   "source": [
    "SEGMENT_SIZE = 150000\n",
    "step_size = 5000"
   ]
  },
  {
   "cell_type": "code",
   "execution_count": 9,
   "metadata": {},
   "outputs": [],
   "source": [
    "ends_mask = np.less(time_to_failure[:-1], time_to_failure[1:])\n",
    "segment_ends = np.nonzero(ends_mask)[0]"
   ]
  },
  {
   "cell_type": "code",
   "execution_count": 10,
   "metadata": {},
   "outputs": [],
   "source": [
    "del ends_mask"
   ]
  },
  {
   "cell_type": "code",
   "execution_count": 11,
   "metadata": {},
   "outputs": [],
   "source": [
    "segments = list()\n",
    "start = 0\n",
    "for e in segment_ends:\n",
    "    segments.append((start, e))\n",
    "    start = e\n"
   ]
  },
  {
   "cell_type": "code",
   "execution_count": 12,
   "metadata": {},
   "outputs": [],
   "source": [
    "segments_split_idx = int(0.8*len(segments))"
   ]
  },
  {
   "cell_type": "code",
   "execution_count": 13,
   "metadata": {},
   "outputs": [],
   "source": [
    "train_segments = segments[:segments_split_idx]\n",
    "test_segments = segments[segments_split_idx:]"
   ]
  },
  {
   "cell_type": "code",
   "execution_count": 14,
   "metadata": {},
   "outputs": [],
   "source": [
    "scaler = preprocessing.StandardScaler(copy=False)"
   ]
  },
  {
   "cell_type": "code",
   "execution_count": 15,
   "metadata": {},
   "outputs": [
    {
     "name": "stderr",
     "output_type": "stream",
     "text": [
      "c:\\users\\shaur\\appdata\\local\\continuum\\anaconda3\\lib\\site-packages\\sklearn\\utils\\validation.py:475: DataConversionWarning: Data with input dtype int16 was converted to float64 by StandardScaler.\n",
      "  warnings.warn(msg, DataConversionWarning)\n"
     ]
    }
   ],
   "source": [
    "for se in train_segments:\n",
    "    start = se[0]\n",
    "    end = se[1]\n",
    "    scaler.partial_fit(acoustic_data[start:end])"
   ]
  },
  {
   "cell_type": "code",
   "execution_count": 154,
   "metadata": {},
   "outputs": [],
   "source": [
    "class LANLDataset(Dataset):\n",
    "    def __init__(self, X, y, segments, step_size, segment_size=SEGMENT_SIZE, scaler=None):\n",
    "        self.X = X \n",
    "        self.y = y \n",
    "        self.segments = segments \n",
    "        self.num_segments = len(segments)\n",
    "        self.segment_idx = 0\n",
    "        self.sequence_idx = 0\n",
    "        self.step_size = step_size \n",
    "        self.segment_size = segment_size\n",
    "        self.scaler = scaler\n",
    "        self.len = 0\n",
    "        self._calculate_len()\n",
    "        self._assign_iterator(0)\n",
    "        \n",
    "\n",
    "\n",
    "        \n",
    "    def _calculate_len(self):        \n",
    "        for s in segments:\n",
    "            start = s[0]\n",
    "            end = s[1]\n",
    "            L = len(range(start, end - self.segment_size, self.step_size)) + 1\n",
    "            self.len += L\n",
    "            \n",
    "    def _assign_iterator(self, idx):\n",
    "        assert(idx < len(self.segments))\n",
    "        start = self.segments[idx][0]\n",
    "        end = self.segments[idx][1] - segment_size\n",
    "        self.range = range(start, end, self.step_size)\n",
    "        self.iterator = iter(self.range)\n",
    "        \n",
    "            \n",
    "    def __len__(self):\n",
    "        return self.len        \n",
    "    \n",
    "    def __getitem__(self, idx):\n",
    "        try:\n",
    "            start_offset = next(self.iterator)\n",
    "            end_offset = start_offset + self.segment_size\n",
    "        except StopIteration:\n",
    "            jj = len(self.range)\n",
    "            self._assign_iterator(self.segment_idx)\n",
    "            self.segment_idx += 1\n",
    "            \n",
    "            \n",
    "            \n",
    "        step_size = self.step_size\n",
    "        \n",
    "        \n",
    "        si = self.segment_idx\n",
    "        start = self.segments[si][0]\n",
    "        end = self.segments[si][1]\n",
    "        seq_idx = self.sequence_idx\n",
    "        \n",
    "        \n",
    "        start_offset = start + (seq_idx*step_size)\n",
    "        end_offset = start_offset + self.segment_size        \n",
    "        self.sequence_idx += 1\n",
    "        \n",
    "        if end_offset >= end:\n",
    "            start_offset = end - self.segment_size\n",
    "            end_offset = end\n",
    "            self.sequence_idx = 0\n",
    "            self.segment_idx  = (self.segment_idx + 1)%self.num_segments\n",
    "                    \n",
    "        data = self.X[start_offset:end_offset].astype(np.float32)\n",
    "        targets = self.y[end_offset]\n",
    "        if self.scaler is not None:\n",
    "            data = self.scaler.transform(data, copy=True)\n",
    "        \n",
    "        return data, targets\n",
    "        \n",
    "            \n",
    "            \n",
    "            \n",
    "        \n",
    "        "
   ]
  },
  {
   "cell_type": "code",
   "execution_count": 181,
   "metadata": {},
   "outputs": [],
   "source": [
    "hh = range(10)"
   ]
  },
  {
   "cell_type": "code",
   "execution_count": 182,
   "metadata": {},
   "outputs": [
    {
     "data": {
      "text/plain": [
       "10"
      ]
     },
     "execution_count": 182,
     "metadata": {},
     "output_type": "execute_result"
    }
   ],
   "source": [
    "len(hh)"
   ]
  },
  {
   "cell_type": "code",
   "execution_count": 180,
   "metadata": {},
   "outputs": [
    {
     "ename": "TypeError",
     "evalue": "object of type 'range_iterator' has no len()",
     "output_type": "error",
     "traceback": [
      "\u001b[1;31m---------------------------------------------------------------------------\u001b[0m",
      "\u001b[1;31mTypeError\u001b[0m                                 Traceback (most recent call last)",
      "\u001b[1;32m<ipython-input-180-ed3b0bb40ebe>\u001b[0m in \u001b[0;36m<module>\u001b[1;34m()\u001b[0m\n\u001b[1;32m----> 1\u001b[1;33m \u001b[0mlen\u001b[0m\u001b[1;33m(\u001b[0m\u001b[0mhh\u001b[0m\u001b[1;33m)\u001b[0m\u001b[1;33m\u001b[0m\u001b[0m\n\u001b[0m",
      "\u001b[1;31mTypeError\u001b[0m: object of type 'range_iterator' has no len()"
     ]
    }
   ],
   "source": [
    "len(hh)"
   ]
  },
  {
   "cell_type": "code",
   "execution_count": 155,
   "metadata": {},
   "outputs": [],
   "source": [
    "batch_size=4"
   ]
  },
  {
   "cell_type": "code",
   "execution_count": 156,
   "metadata": {},
   "outputs": [],
   "source": [
    "segments_ = segments\n",
    "dataset = LANLDataset(acoustic_data, time_to_failure, segments_, \n",
    "                       step_size=step_size, segment_size=SEGMENT_SIZE)\n",
    "\n",
    "dataloader = torch.utils.data.DataLoader(dataset, batch_size=1, shuffle=False, num_workers=0)\n",
    "\n",
    "it = dataloader.__iter__()\n",
    "for ii,segment in enumerate(segments_):\n",
    "    start = segment[0]\n",
    "    end = segment[1]\n",
    "    stop = False\n",
    "    for j in range(start, end, step_size):\n",
    "        xx = acoustic_data[j:j+SEGMENT_SIZE]      \n",
    "        yy = time_to_failure[j+SEGMENT_SIZE]\n",
    "        \n",
    "        try:\n",
    "            aa, bb = next(it)\n",
    "        except StopIteration:\n",
    "            print('STOP ITERATION ', ii, j)\n",
    "        if j + SEGMENT_SIZE >= end:\n",
    "            xx = acoustic_data[end - SEGMENT_SIZE:end]\n",
    "            yy = time_to_failure[end]\n",
    "            stop=True\n",
    "            \n",
    "        error = np.sum(xx-aa.numpy()[0])\n",
    "        if error != 0.0:\n",
    "            print('ERROR ', j, error)\n",
    "            \n",
    "        if stop:\n",
    "            break\n",
    "        \n",
    "\n",
    "    \n",
    "    \n",
    "    "
   ]
  },
  {
   "cell_type": "code",
   "execution_count": 43,
   "metadata": {},
   "outputs": [],
   "source": [
    "lanl_train_dataset = LANLDataset(acoustic_data, time_to_failure, train_segments, \n",
    "                           step_size=step_size, segment_size=SEGMENT_SIZE, scaler=scaler)"
   ]
  },
  {
   "cell_type": "code",
   "execution_count": 44,
   "metadata": {},
   "outputs": [],
   "source": [
    "train_dataloader = torch.utils.data.DataLoader(lanl_train_dataset, batch_size=batch_size, shuffle=False, num_workers=0)"
   ]
  },
  {
   "cell_type": "code",
   "execution_count": 47,
   "metadata": {},
   "outputs": [],
   "source": [
    "it = train_dataloader.__iter__()"
   ]
  },
  {
   "cell_type": "code",
   "execution_count": 115,
   "metadata": {},
   "outputs": [],
   "source": [
    "\n",
    "device = torch.device(\"cuda\" if torch.cuda.is_available() else \"cpu\")"
   ]
  },
  {
   "cell_type": "code",
   "execution_count": 116,
   "metadata": {},
   "outputs": [],
   "source": [
    "class LANLModel(nn.Module):\n",
    "    def __init__(self, batch_size, segment_size=SEGMENT_SIZE):\n",
    "        super(LANLModel, self).__init__()\n",
    "        self.batch_size = batch_size\n",
    "#         self.segment_size\n",
    "        \n",
    "        self.conv1 = nn.Conv1d(1,4096,11,stride=7)\n",
    "        self.pool1 = nn.AvgPool1d(10)\n",
    "        self.conv2 = nn.Conv1d(self.conv1.out_channels, 512, 5)\n",
    "        self.pool2 = nn.AvgPool1d(3)\n",
    "        self.lstm = nn.LSTM(input_size=712, hidden_size=64, num_layers=1, batch_first=True, bidirectional=True)\n",
    "        self.linear = nn.Linear(128, 1)\n",
    "        \n",
    "        \n",
    "    def forward(self, x):\n",
    "        x = x.transpose(-1,-2)\n",
    "        x = self.conv1(x)\n",
    "        x = self.pool1(x)\n",
    "        x = self.conv2(x)\n",
    "        x = self.pool2(x)\n",
    "        x,_ = self.lstm(x)\n",
    "        \n",
    "        x = self.linear(x[:,-1])\n",
    "        return x\n",
    "        "
   ]
  },
  {
   "cell_type": "code",
   "execution_count": 118,
   "metadata": {},
   "outputs": [],
   "source": [
    "learning_rate = 1e-3\n",
    "model = LANLModel(batch_size=batch_size)\n",
    "loss_fn = torch.nn.MSELoss()\n",
    "\n",
    "optimizer = torch.optim.Adam(model.parameters(), lr=learning_rate)\n"
   ]
  },
  {
   "cell_type": "code",
   "execution_count": 63,
   "metadata": {},
   "outputs": [],
   "source": [
    "def count_parameters(model):\n",
    "    return sum(p.numel() for p in model.parameters() if p.requires_grad)"
   ]
  },
  {
   "cell_type": "code",
   "execution_count": 64,
   "metadata": {},
   "outputs": [
    {
     "data": {
      "text/plain": [
       "10933889"
      ]
     },
     "execution_count": 64,
     "metadata": {},
     "output_type": "execute_result"
    }
   ],
   "source": [
    "count_parameters(model)"
   ]
  },
  {
   "cell_type": "code",
   "execution_count": 48,
   "metadata": {},
   "outputs": [],
   "source": [
    "if torch.cuda.is_available():\n",
    "    model.cuda()"
   ]
  },
  {
   "cell_type": "code",
   "execution_count": 65,
   "metadata": {},
   "outputs": [
    {
     "name": "stdout",
     "output_type": "stream",
     "text": [
      "Num batches : 30981\n"
     ]
    }
   ],
   "source": [
    "num_epochs = 1\n",
    "\n",
    "optimizer.zero_grad()\n",
    "for e in range(num_epochs):\n",
    "    losses = []\n",
    "    for ii,(batch_data, batch_label) in enumerate(train_dataloader):\n",
    "        pass\n",
    "    print('Num batches : {}'.format(str(ii)))\n",
    "#         batch_data, batch_label = batch_data.to(device), batch_label.to(device)\n",
    "        \n",
    "#         y_pred = model(batch_data)\n",
    "#         loss = loss_fn(y_pred, batch_label)\n",
    "#         losses.append(loss.item())\n",
    "# #         print(loss.item())\n",
    "#         optimizer.zero_grad()\n",
    "#         loss.backward()\n",
    "#         optimizer.step()\n",
    "#     mean_loss = np.mean(losses)\n",
    "\n",
    "#     print(f'Epoch {e}, mean_loss {mean_loss}')\n",
    "        \n",
    "        \n",
    "\n",
    "\n",
    "\n",
    "\n",
    "\n",
    "\n",
    "\n",
    "\n",
    "\n"
   ]
  },
  {
   "cell_type": "code",
   "execution_count": null,
   "metadata": {},
   "outputs": [],
   "source": []
  },
  {
   "cell_type": "code",
   "execution_count": null,
   "metadata": {},
   "outputs": [],
   "source": []
  }
 ],
 "metadata": {
  "kernelspec": {
   "display_name": "Python 3",
   "language": "python",
   "name": "python3"
  },
  "language_info": {
   "codemirror_mode": {
    "name": "ipython",
    "version": 3
   },
   "file_extension": ".py",
   "mimetype": "text/x-python",
   "name": "python",
   "nbconvert_exporter": "python",
   "pygments_lexer": "ipython3",
   "version": "3.6.4"
  }
 },
 "nbformat": 4,
 "nbformat_minor": 2
}
