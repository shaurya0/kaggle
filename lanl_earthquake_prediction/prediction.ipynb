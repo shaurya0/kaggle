{
 "cells": [
  {
   "cell_type": "code",
   "execution_count": 1,
   "metadata": {},
   "outputs": [
    {
     "name": "stderr",
     "output_type": "stream",
     "text": [
      "/Users/shauryas/anaconda3/lib/python3.6/site-packages/h5py/__init__.py:36: FutureWarning: Conversion of the second argument of issubdtype from `float` to `np.floating` is deprecated. In future, it will be treated as `np.float64 == np.dtype(float).type`.\n",
      "  from ._conv import register_converters as _register_converters\n"
     ]
    }
   ],
   "source": [
    "import numpy as np\n",
    "import pandas as pd \n",
    "from glob import glob\n",
    "from os import path\n",
    "import matplotlib.pyplot as plt\n",
    "from torch.utils.data.dataset import Dataset\n",
    "import torch\n",
    "import torch.nn as nn\n",
    "import torch.nn.functional as F\n",
    "from sklearn import preprocessing\n",
    "from torch.autograd import Variable\n",
    "import torch.utils.data as utils\n",
    "import tensorflow as tf"
   ]
  },
  {
   "cell_type": "code",
   "execution_count": 2,
   "metadata": {},
   "outputs": [],
   "source": [
    "train_file = r'data/train/train.csv'\n",
    "test_path = r'data/test'\n",
    "test_files = glob(path.join(test_path, '*.csv'))"
   ]
  },
  {
   "cell_type": "code",
   "execution_count": 3,
   "metadata": {},
   "outputs": [],
   "source": [
    "def create_numpy_files(train_csv_file, output_folder):\n",
    "    if path.exists(path.join(output_folder, 'train_acoustic_data.npy')):\n",
    "        print('Numpy array exists, skipping')\n",
    "        return\n",
    "    \n",
    "    train_df_chunked = pd.read_csv(train_csv_file, chunksize=10000000)\n",
    "    acoustic_data_filepath = path.join(output_folder, 'train_acoustic_data')\n",
    "    \n",
    "    ttf_filepath = path.join(output_folder, 'train_time_to_failure')\n",
    "    acoustic_data = list()\n",
    "    time_to_failure = list()\n",
    "\n",
    "    for chunk in train_df_chunked:\n",
    "        a = chunk['acoustic_data'].values\n",
    "        t = chunk['time_to_failure'].values\n",
    "        acoustic_data.append(a.astype(np.int16))\n",
    "        time_to_failure.append(t.astype(np.float32))\n",
    "    \n",
    "    acoustic_data = np.concatenate(acoustic_data)\n",
    "    time_to_failure = np.concatenate(time_to_failure)\n",
    "    np.save(acoustic_data_filepath, acoustic_data)\n",
    "    np.save(ttf_filepath, time_to_failure)\n",
    "        \n",
    "    "
   ]
  },
  {
   "cell_type": "code",
   "execution_count": 4,
   "metadata": {},
   "outputs": [
    {
     "name": "stdout",
     "output_type": "stream",
     "text": [
      "Numpy array exists, skipping\n"
     ]
    }
   ],
   "source": [
    "create_numpy_files(train_csv_file=train_file, output_folder='data')"
   ]
  },
  {
   "cell_type": "code",
   "execution_count": 5,
   "metadata": {},
   "outputs": [],
   "source": [
    "def load_train_data_from_numpy_files(folder):\n",
    "    acoustic_data = np.load(path.join(folder, 'train_acoustic_data.npy'))\n",
    "    time_to_failure = np.load(path.join(folder, 'train_time_to_failure.npy'))\n",
    "    return acoustic_data, time_to_failure"
   ]
  },
  {
   "cell_type": "code",
   "execution_count": 6,
   "metadata": {},
   "outputs": [],
   "source": [
    "acoustic_data, time_to_failure = load_train_data_from_numpy_files('data')"
   ]
  },
  {
   "cell_type": "code",
   "execution_count": 7,
   "metadata": {},
   "outputs": [],
   "source": [
    "acoustic_data = acoustic_data.astype(np.float32)\n",
    "acoustic_data = np.expand_dims(acoustic_data, axis=1)"
   ]
  },
  {
   "cell_type": "code",
   "execution_count": 8,
   "metadata": {},
   "outputs": [],
   "source": [
    "ends_mask = np.less(time_to_failure[:-1], time_to_failure[1:])\n",
    "segment_ends = np.nonzero(ends_mask)[0]"
   ]
  },
  {
   "cell_type": "code",
   "execution_count": 9,
   "metadata": {},
   "outputs": [],
   "source": [
    "segments = list()\n",
    "start = 0\n",
    "for e in segment_ends:\n",
    "    segments.append((start, e))\n",
    "    start = e\n"
   ]
  },
  {
   "cell_type": "code",
   "execution_count": 10,
   "metadata": {},
   "outputs": [],
   "source": [
    "segments_split_idx = int(0.8*len(segments))"
   ]
  },
  {
   "cell_type": "code",
   "execution_count": 11,
   "metadata": {},
   "outputs": [],
   "source": [
    "train_segments = segments[:segments_split_idx]\n",
    "test_segments = segments[segments_split_idx:]"
   ]
  },
  {
   "cell_type": "code",
   "execution_count": 12,
   "metadata": {},
   "outputs": [],
   "source": [
    "scaler = preprocessing.StandardScaler(copy=False)"
   ]
  },
  {
   "cell_type": "code",
   "execution_count": 13,
   "metadata": {},
   "outputs": [],
   "source": [
    "for se in train_segments:\n",
    "    start = se[0]\n",
    "    end = se[1]\n",
    "    scaler.partial_fit(acoustic_data[start:end])"
   ]
  },
  {
   "cell_type": "code",
   "execution_count": 14,
   "metadata": {},
   "outputs": [],
   "source": [
    "SEGMENT_SIZE = 150000\n",
    "step_size = 1000"
   ]
  },
  {
   "cell_type": "code",
   "execution_count": 15,
   "metadata": {},
   "outputs": [],
   "source": [
    "T = np.arange(0,200)\n",
    "W = np.arange(0,200)"
   ]
  },
  {
   "cell_type": "code",
   "execution_count": 16,
   "metadata": {},
   "outputs": [],
   "source": [
    "tmp_segments = list()\n",
    "for i in range(10):\n",
    "    tmp_segments.append((i*20, i*20 + 20))"
   ]
  },
  {
   "cell_type": "code",
   "execution_count": 17,
   "metadata": {},
   "outputs": [],
   "source": [
    "class LANLDataset(Dataset):\n",
    "    def __init__(self, X, y, segments, step_size, segment_size=SEGMENT_SIZE, scaler=None):\n",
    "        self.X = X \n",
    "        self.y = y \n",
    "        self.segments = segments \n",
    "        self.num_segments = len(segments)\n",
    "        self.segment_idx = 0\n",
    "        self.sequence_idx = 0\n",
    "        self.step_size = step_size \n",
    "        self.segment_size = segment_size\n",
    "        self.scaler = scaler\n",
    "        self.len = 0\n",
    "        self._calculate_len()\n",
    "\n",
    "        \n",
    "    def _calculate_len(self):        \n",
    "        for s in segments:\n",
    "            start = s[0]\n",
    "            end = s[1]\n",
    "            L = ((end - start - SEGMENT_SIZE)//self.step_size) + 1 \n",
    "            self.len += L\n",
    "            \n",
    "    def __len__(self):\n",
    "        return self.len        \n",
    "    \n",
    "    def __getitem__(self, idx):\n",
    "        step_size = self.step_size\n",
    "        si = self.segment_idx\n",
    "        start = self.segments[si][0]\n",
    "        end = self.segments[si][1]\n",
    "        seq_idx = self.sequence_idx\n",
    "        \n",
    "        \n",
    "        start_offset = start + (seq_idx*step_size)\n",
    "        end_offset = start_offset + self.segment_size        \n",
    "        self.sequence_idx += 1\n",
    "        \n",
    "        if end_offset >= end:\n",
    "            start_offset = end - self.segment_size\n",
    "            end_offset = end\n",
    "            self.sequence_idx = 0\n",
    "            self.segment_idx  = (self.segment_idx + 1)%self.num_segments\n",
    "            \n",
    "        data = self.X[start_offset:end_offset]\n",
    "        targets = self.y[start_offset:end_offset]\n",
    "        if self.scaler is not None:\n",
    "            data = self.scaler.fit(data)\n",
    "        \n",
    "        return data, targets\n",
    "        \n",
    "            \n",
    "            \n",
    "            \n",
    "        \n",
    "        "
   ]
  },
  {
   "cell_type": "code",
   "execution_count": 18,
   "metadata": {},
   "outputs": [],
   "source": [
    "lanl_dataset = LANLDataset(acoustic_data, time_to_failure, train_segments, \n",
    "                           step_size=step_size, segment_size=SEGMENT_SIZE)"
   ]
  },
  {
   "cell_type": "code",
   "execution_count": 19,
   "metadata": {},
   "outputs": [],
   "source": [
    "dataloader = torch.utils.data.DataLoader(lanl_dataset, batch_size=2, shuffle=False, num_workers=1)"
   ]
  },
  {
   "cell_type": "code",
   "execution_count": 25,
   "metadata": {},
   "outputs": [],
   "source": [
    "class LANLModel(nn.Module):\n",
    "    def __init__(self, batch_size, segment_size=SEGMENT_SIZE):\n",
    "        super(LANLModel, self).__init__()\n",
    "        self.batch_size = batch_size\n",
    "#         self.segment_size\n",
    "        \n",
    "        self.conv1 = nn.Conv1d(1,1,3)\n",
    "#         self.pool1 = nn.AvgPool1d(1)\n",
    "#         self.conv2 = nn.Conv1d(15000,1500,1)\n",
    "#         self.pool2 = nn.AvgPool1d(10)\n",
    "#         self.conv3 = nn.Conv1d(1500, 750, 1)\n",
    "#         self.pool3 = nn.AvgPool1d(5)\n",
    "        \n",
    "        \n",
    "    def forward(self, x):\n",
    "        \n",
    "        x = x.transpose(-1,-2)\n",
    "        x = self.conv1(x)\n",
    "#         x = self.pool1(x)\n",
    "#         x = self.conv2(x)\n",
    "#         x = self.pool2(x)\n",
    "#         x = self.conv3(x)\n",
    "#         x = self.pool3(x)\n",
    "#         x = self.conv2(x)\n",
    "        return x\n",
    "        "
   ]
  },
  {
   "cell_type": "code",
   "execution_count": 26,
   "metadata": {},
   "outputs": [],
   "source": [
    "for batch_data, batch_label in dataloader:\n",
    "    break"
   ]
  },
  {
   "cell_type": "code",
   "execution_count": 27,
   "metadata": {},
   "outputs": [],
   "source": [
    "model = LANLModel(2)"
   ]
  },
  {
   "cell_type": "code",
   "execution_count": 28,
   "metadata": {},
   "outputs": [],
   "source": [
    "tt = model.forward(batch_data)"
   ]
  },
  {
   "cell_type": "code",
   "execution_count": 29,
   "metadata": {},
   "outputs": [
    {
     "data": {
      "text/plain": [
       "torch.Size([2, 1, 149998])"
      ]
     },
     "execution_count": 29,
     "metadata": {},
     "output_type": "execute_result"
    }
   ],
   "source": [
    "tt.shape"
   ]
  },
  {
   "cell_type": "code",
   "execution_count": 83,
   "metadata": {},
   "outputs": [],
   "source": [
    "num_epochs = 5\n",
    "\n",
    "\n",
    "\n",
    "\n",
    "\n",
    "\n",
    "\n",
    "\n",
    "\n",
    "\n",
    "\n",
    "\n",
    "\n",
    "\n",
    "\n",
    "\n",
    "\n",
    "\n",
    "\n",
    "\n",
    "\n",
    "\n",
    "\n",
    "\n"
   ]
  }
 ],
 "metadata": {
  "kernelspec": {
   "display_name": "Python 3",
   "language": "python",
   "name": "python3"
  },
  "language_info": {
   "codemirror_mode": {
    "name": "ipython",
    "version": 3
   },
   "file_extension": ".py",
   "mimetype": "text/x-python",
   "name": "python",
   "nbconvert_exporter": "python",
   "pygments_lexer": "ipython3",
   "version": "3.6.5"
  }
 },
 "nbformat": 4,
 "nbformat_minor": 2
}
