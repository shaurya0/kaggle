{
 "cells": [
  {
   "cell_type": "code",
   "execution_count": 1,
   "metadata": {},
   "outputs": [
    {
     "name": "stderr",
     "output_type": "stream",
     "text": [
      "Using TensorFlow backend.\n"
     ]
    }
   ],
   "source": [
    "import h5py\n",
    "import numpy as np\n",
    "from keras.preprocessing.image import ImageDataGenerator\n",
    "from keras.models import Sequential, Model\n",
    "from keras.layers import Convolution2D, MaxPooling2D, ZeroPadding2D, GlobalAveragePooling2D\n",
    "from keras.layers import Activation, Dropout, Flatten, Dense\n",
    "from keras import optimizers\n",
    "import keras\n",
    "import pandas\n",
    "import utils"
   ]
  },
  {
   "cell_type": "code",
   "execution_count": 8,
   "metadata": {
    "collapsed": true
   },
   "outputs": [],
   "source": [
    "train_folder = 'data/train'\n",
    "test_folder = 'data/test'\n",
    "validation_folder = 'data/validation'\n",
    "labels_csv = 'train_labels.csv'\n",
    "label_names = ['0', '1']\n",
    "IMG_WIDTH = 193\n",
    "IMG_HEIGHT = 144\n",
    "batch_size = 16"
   ]
  },
  {
   "cell_type": "code",
   "execution_count": 3,
   "metadata": {},
   "outputs": [],
   "source": [
    "utils.create_labelled_folders(train_folder, labels_csv, label_names)        \n",
    "utils.create_validation_subfolders(train_folder, validation_folder, label_names, 0.2)        "
   ]
  },
  {
   "cell_type": "code",
   "execution_count": 4,
   "metadata": {},
   "outputs": [
    {
     "name": "stdout",
     "output_type": "stream",
     "text": [
      "Found 1837 images belonging to 2 classes.\n",
      "Found 458 images belonging to 2 classes.\n"
     ]
    }
   ],
   "source": [
    "train_datagen = ImageDataGenerator(\n",
    "    width_shift_range=0.2,\n",
    "    height_shift_range=0.2,\n",
    "    zoom_range=0.2,\n",
    "    rescale=1./255.,\n",
    "    horizontal_flip=True,\n",
    ")\n",
    "\n",
    "validation_datagen = ImageDataGenerator(\n",
    "    rescale=1./255.\n",
    ")\n",
    "\n",
    "train_generator = train_datagen.flow_from_directory(\n",
    "    train_folder,\n",
    "    batch_size=batch_size,\n",
    "    target_size = (IMG_WIDTH, IMG_HEIGHT)\n",
    ")\n",
    "\n",
    "validation_generator = validation_datagen.flow_from_directory(\n",
    "    validation_folder,\n",
    "    batch_size=batch_size,\n",
    "    target_size = (IMG_WIDTH, IMG_HEIGHT)\n",
    ")"
   ]
  },
  {
   "cell_type": "code",
   "execution_count": 11,
   "metadata": {},
   "outputs": [
    {
     "name": "stdout",
     "output_type": "stream",
     "text": [
      "Downloading data from https://github.com/fchollet/deep-learning-models/releases/download/v0.1/vgg19_weights_tf_dim_ordering_tf_kernels_notop.h5\n",
      "78823424/80134624 [============================>.] - ETA: 0s"
     ]
    }
   ],
   "source": [
    "base_model = keras.applications.vgg19.VGG19(weights='imagenet', \n",
    "                                            include_top=False, input_shape=(IMG_WIDTH, IMG_HEIGHT, 3))"
   ]
  },
  {
   "cell_type": "code",
   "execution_count": 12,
   "metadata": {
    "collapsed": true
   },
   "outputs": [],
   "source": [
    "x = base_model.output\n",
    "x = (Flatten(input_shape=base_model.output_shape[1:], name=\"finetune\"))(x)\n",
    "x = (Dense(256, activation='relu'))(x)\n",
    "x = (Dropout(0.5))(x)\n",
    "x = (Dense(2, activation='sigmoid'))(x)\n",
    "\n",
    "model = Model(inputs=base_model.inputs, outputs=x)\n",
    "\n",
    "for layer in model.layers:\n",
    "    if layer.name == \"finetune\":\n",
    "        break\n",
    "    \n",
    "    layer.trainable = False\n",
    "\n",
    "model.compile(loss='binary_crossentropy',\n",
    "              optimizer=optimizers.SGD(lr=1e-4, momentum=0.9),\n",
    "              metrics=['accuracy'])"
   ]
  },
  {
   "cell_type": "code",
   "execution_count": 14,
   "metadata": {},
   "outputs": [
    {
     "name": "stdout",
     "output_type": "stream",
     "text": [
      "Epoch 1/50\n",
      "114/114 [==============================] - 19s - loss: 0.4675 - acc: 0.7588 - val_loss: 0.3495 - val_acc: 0.8884\n",
      "Epoch 2/50\n",
      "114/114 [==============================] - 17s - loss: 0.4165 - acc: 0.8081 - val_loss: 0.3313 - val_acc: 0.8864\n",
      "Epoch 3/50\n",
      "114/114 [==============================] - 17s - loss: 0.4005 - acc: 0.8224 - val_loss: 0.3823 - val_acc: 0.8348\n",
      "Epoch 4/50\n",
      "114/114 [==============================] - 17s - loss: 0.4488 - acc: 0.7741 - val_loss: 0.3599 - val_acc: 0.8795\n",
      "Epoch 5/50\n",
      "114/114 [==============================] - 17s - loss: 0.4528 - acc: 0.7697 - val_loss: 0.3695 - val_acc: 0.8571\n",
      "Epoch 6/50\n",
      "114/114 [==============================] - 17s - loss: 0.4200 - acc: 0.8191 - val_loss: 0.3873 - val_acc: 0.8227\n",
      "Epoch 7/50\n",
      "114/114 [==============================] - 17s - loss: 0.4187 - acc: 0.8026 - val_loss: 0.3312 - val_acc: 0.8929\n",
      "Epoch 8/50\n",
      "114/114 [==============================] - 17s - loss: 0.3850 - acc: 0.8202 - val_loss: 0.3250 - val_acc: 0.8616\n",
      "Epoch 9/50\n",
      "114/114 [==============================] - 17s - loss: 0.4456 - acc: 0.7873 - val_loss: 0.3719 - val_acc: 0.8080\n",
      "Epoch 10/50\n",
      "114/114 [==============================] - 17s - loss: 0.4254 - acc: 0.7796 - val_loss: 0.3123 - val_acc: 0.8682\n",
      "Epoch 11/50\n",
      "114/114 [==============================] - 17s - loss: 0.4196 - acc: 0.7950 - val_loss: 0.3402 - val_acc: 0.8661\n",
      "Epoch 12/50\n",
      "114/114 [==============================] - 17s - loss: 0.4358 - acc: 0.7829 - val_loss: 0.3756 - val_acc: 0.8482\n",
      "Epoch 13/50\n",
      "114/114 [==============================] - 17s - loss: 0.3724 - acc: 0.8279 - val_loss: 0.3209 - val_acc: 0.8750\n",
      "Epoch 14/50\n",
      "114/114 [==============================] - 17s - loss: 0.4006 - acc: 0.8070 - val_loss: 0.3018 - val_acc: 0.8682\n",
      "Epoch 15/50\n",
      "114/114 [==============================] - 17s - loss: 0.3831 - acc: 0.8322 - val_loss: 0.3051 - val_acc: 0.9152\n",
      "Epoch 16/50\n",
      "114/114 [==============================] - 17s - loss: 0.3952 - acc: 0.8147 - val_loss: 0.3361 - val_acc: 0.8214\n",
      "Epoch 17/50\n",
      "114/114 [==============================] - 17s - loss: 0.4233 - acc: 0.7818 - val_loss: 0.3648 - val_acc: 0.8393\n",
      "Epoch 18/50\n",
      "114/114 [==============================] - 17s - loss: 0.3426 - acc: 0.8564 - val_loss: 0.3138 - val_acc: 0.8682\n",
      "Epoch 19/50\n",
      "114/114 [==============================] - 17s - loss: 0.3896 - acc: 0.8202 - val_loss: 0.3253 - val_acc: 0.8839\n",
      "Epoch 20/50\n",
      "114/114 [==============================] - 17s - loss: 0.3680 - acc: 0.8180 - val_loss: 0.3742 - val_acc: 0.8259\n",
      "Epoch 21/50\n",
      "114/114 [==============================] - 17s - loss: 0.3937 - acc: 0.8169 - val_loss: 0.3030 - val_acc: 0.8929\n",
      "Epoch 22/50\n",
      "114/114 [==============================] - 17s - loss: 0.3859 - acc: 0.8191 - val_loss: 0.3461 - val_acc: 0.8273\n",
      "Epoch 23/50\n",
      "114/114 [==============================] - 17s - loss: 0.3933 - acc: 0.8235 - val_loss: 0.3769 - val_acc: 0.7857\n",
      "Epoch 24/50\n",
      "114/114 [==============================] - 17s - loss: 0.3833 - acc: 0.8235 - val_loss: 0.3140 - val_acc: 0.8795\n",
      "Epoch 25/50\n",
      "114/114 [==============================] - 17s - loss: 0.4136 - acc: 0.7939 - val_loss: 0.2604 - val_acc: 0.9018\n",
      "Epoch 26/50\n",
      "114/114 [==============================] - 17s - loss: 0.3732 - acc: 0.8268 - val_loss: 0.2894 - val_acc: 0.8773\n",
      "Epoch 27/50\n",
      "114/114 [==============================] - 17s - loss: 0.4164 - acc: 0.7851 - val_loss: 0.3130 - val_acc: 0.8750\n",
      "Epoch 28/50\n",
      "114/114 [==============================] - 17s - loss: 0.3648 - acc: 0.8366 - val_loss: 0.3921 - val_acc: 0.7902\n",
      "Epoch 29/50\n",
      "114/114 [==============================] - 17s - loss: 0.3925 - acc: 0.8114 - val_loss: 0.3172 - val_acc: 0.8527\n",
      "Epoch 30/50\n",
      "114/114 [==============================] - 17s - loss: 0.3883 - acc: 0.8180 - val_loss: 0.3475 - val_acc: 0.8636\n",
      "Epoch 31/50\n",
      "114/114 [==============================] - 17s - loss: 0.3859 - acc: 0.8147 - val_loss: 0.2723 - val_acc: 0.9152\n",
      "Epoch 32/50\n",
      "114/114 [==============================] - 17s - loss: 0.3665 - acc: 0.8355 - val_loss: 0.3223 - val_acc: 0.8259\n",
      "Epoch 33/50\n",
      "114/114 [==============================] - 17s - loss: 0.4428 - acc: 0.7763 - val_loss: 0.3301 - val_acc: 0.8527\n",
      "Epoch 34/50\n",
      "114/114 [==============================] - 17s - loss: 0.3881 - acc: 0.8191 - val_loss: 0.3285 - val_acc: 0.8545\n",
      "Epoch 35/50\n",
      "114/114 [==============================] - 17s - loss: 0.3595 - acc: 0.8377 - val_loss: 0.3206 - val_acc: 0.8482\n",
      "Epoch 36/50\n",
      "114/114 [==============================] - 17s - loss: 0.3473 - acc: 0.8520 - val_loss: 0.2897 - val_acc: 0.8705\n",
      "Epoch 37/50\n",
      "114/114 [==============================] - 17s - loss: 0.3734 - acc: 0.8377 - val_loss: 0.3055 - val_acc: 0.8616\n",
      "Epoch 38/50\n",
      "114/114 [==============================] - 17s - loss: 0.3598 - acc: 0.8344 - val_loss: 0.2833 - val_acc: 0.8727\n",
      "Epoch 39/50\n",
      "114/114 [==============================] - 17s - loss: 0.3612 - acc: 0.8498 - val_loss: 0.2739 - val_acc: 0.8884\n",
      "Epoch 40/50\n",
      "114/114 [==============================] - 17s - loss: 0.3525 - acc: 0.8279 - val_loss: 0.3416 - val_acc: 0.8214\n",
      "Epoch 41/50\n",
      "114/114 [==============================] - 17s - loss: 0.3502 - acc: 0.8388 - val_loss: 0.2785 - val_acc: 0.9018\n",
      "Epoch 42/50\n",
      "114/114 [==============================] - 17s - loss: 0.3631 - acc: 0.8366 - val_loss: 0.2763 - val_acc: 0.9000\n",
      "Epoch 43/50\n",
      "114/114 [==============================] - 17s - loss: 0.3690 - acc: 0.8180 - val_loss: 0.3766 - val_acc: 0.8214\n",
      "Epoch 44/50\n",
      "114/114 [==============================] - 17s - loss: 0.3710 - acc: 0.8311 - val_loss: 0.2377 - val_acc: 0.8884\n",
      "Epoch 45/50\n",
      "114/114 [==============================] - 17s - loss: 0.3816 - acc: 0.8059 - val_loss: 0.2787 - val_acc: 0.8616\n",
      "Epoch 46/50\n",
      "114/114 [==============================] - 17s - loss: 0.3554 - acc: 0.8388 - val_loss: 0.2688 - val_acc: 0.8909\n",
      "Epoch 47/50\n",
      "114/114 [==============================] - 17s - loss: 0.3721 - acc: 0.8257 - val_loss: 0.3123 - val_acc: 0.8393\n",
      "Epoch 48/50\n",
      "114/114 [==============================] - 17s - loss: 0.3883 - acc: 0.8279 - val_loss: 0.3188 - val_acc: 0.8438\n",
      "Epoch 49/50\n",
      "114/114 [==============================] - 17s - loss: 0.3550 - acc: 0.8289 - val_loss: 0.3063 - val_acc: 0.9018\n",
      "Epoch 50/50\n",
      "114/114 [==============================] - 17s - loss: 0.3641 - acc: 0.8333 - val_loss: 0.3764 - val_acc: 0.7946\n"
     ]
    },
    {
     "data": {
      "text/plain": [
       "<keras.callbacks.History at 0x7f472c784518>"
      ]
     },
     "execution_count": 14,
     "metadata": {},
     "output_type": "execute_result"
    }
   ],
   "source": [
    "num_training_samples = train_generator.n\n",
    "num_validation_samples = validation_generator.n\n",
    "\n",
    "model.fit_generator(\n",
    "    train_generator,\n",
    "    steps_per_epoch=num_training_samples//batch_size,\n",
    "    epochs=50,\n",
    "    validation_data=validation_generator,\n",
    "    validation_steps=num_validation_samples//batch_size)"
   ]
  },
  {
   "cell_type": "code",
   "execution_count": null,
   "metadata": {},
   "outputs": [],
   "source": [
    "test_datagen = ImageDataGenerator(\n",
    "    rescale=1./255.\n",
    ")\n",
    "\n",
    "test_generator = test_datagen.flow_from_directory(\n",
    "    test_folder,\n",
    "    batch_size=batch_size,\n",
    "    target_size = (IMG_WIDTH, IMG_HEIGHT)\n",
    ")"
   ]
  },
  {
   "cell_type": "code",
   "execution_count": null,
   "metadata": {
    "collapsed": true
   },
   "outputs": [],
   "source": [
    "num_test_samples = test_generator.n\n",
    "test_predictions = model.predict_generator(test_generator, num_test_samples//batch_size)"
   ]
  },
  {
   "cell_type": "code",
   "execution_count": null,
   "metadata": {},
   "outputs": [],
   "source": [
    "test_predictions[:,:20]"
   ]
  }
 ],
 "metadata": {
  "kernelspec": {
   "display_name": "Python 3",
   "language": "python",
   "name": "python3"
  },
  "language_info": {
   "codemirror_mode": {
    "name": "ipython",
    "version": 3
   },
   "file_extension": ".py",
   "mimetype": "text/x-python",
   "name": "python",
   "nbconvert_exporter": "python",
   "pygments_lexer": "ipython3",
   "version": "3.6.2"
  }
 },
 "nbformat": 4,
 "nbformat_minor": 2
}
