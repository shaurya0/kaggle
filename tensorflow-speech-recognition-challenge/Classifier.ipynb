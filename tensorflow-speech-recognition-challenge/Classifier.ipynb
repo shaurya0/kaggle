{
 "cells": [
  {
   "cell_type": "code",
   "execution_count": 1,
   "metadata": {},
   "outputs": [],
   "source": [
    "%load_ext autoreload\n",
    "%autoreload 2"
   ]
  },
  {
   "cell_type": "code",
   "execution_count": 23,
   "metadata": {},
   "outputs": [],
   "source": [
    "import numpy as np\n",
    "import tensorflow as tf\n",
    "from keras.layers import Dense, Input, Conv2D, BatchNormalization, Concatenate\n",
    "from keras.layers import merge, concatenate\n",
    "from keras.layers import MaxPool2D, MaxPooling2D, Reshape, Dropout, SeparableConv2D\n",
    "from keras.models import Model\n",
    "from keras.utils import to_categorical\n",
    "import os\n",
    "\n",
    "# matplotlib for displaying the output\n",
    "import matplotlib.pyplot as plt\n",
    "import matplotlib.style as ms\n",
    "ms.use('seaborn-muted')\n",
    "%matplotlib inline\n",
    "from WavDataLoader import WavDataLoader\n",
    "from WavDataGenerator import WavDataGenerator"
   ]
  },
  {
   "cell_type": "code",
   "execution_count": 24,
   "metadata": {},
   "outputs": [],
   "source": [
    "labels = ['bed', 'bird', 'cat', 'dog', 'down', 'eight', 'five', 'four', 'go', 'happy', 'house', 'left', 'marvin', 'nine', 'no', 'off', 'on', 'one', 'right', 'seven', 'sheila', 'silence', 'six', 'stop', 'three', 'tree', 'two', 'up', 'wow', 'yes', 'zero']\n",
    "num_labels = len(labels)"
   ]
  },
  {
   "cell_type": "code",
   "execution_count": 25,
   "metadata": {},
   "outputs": [],
   "source": [
    "if os.name is 'nt':\n",
    "    data_dir = r'C:\\Development\\kaggle\\tensorflow-speech-recognition-challenge\\data\\train\\audio'\n",
    "else:\n",
    "    data_dir = r'/home/shaur141/Development/kaggle/tensorflow-speech-recognition-challenge/data/train/audio'\n",
    "    \n",
    "wav_data_loader = WavDataLoader(data_dir, labels)\n"
   ]
  },
  {
   "cell_type": "code",
   "execution_count": 49,
   "metadata": {},
   "outputs": [],
   "source": [
    "def build_model():\n",
    "    log_melspectrogram_inputs = Input(shape=(128, 32, 1), name='log_melspectrogram')\n",
    "    \n",
    "    \n",
    "#     x = Reshape((wav_data_loader.nx*wav_data_loader.ny,))(inputs)\n",
    "#     x = BatchNormalization()(inputs)\n",
    "    x_logmel = Conv2D(16,(5,5),strides=(1,1), activation='relu')(log_melspectrogram_inputs)\n",
    "#     x_logmel = BatchNormalization()(x_logmel)\n",
    "    x_logmel = MaxPool2D(strides=(1,1))(x_logmel)\n",
    "    x_logmel = Dropout(0.25)(x_logmel)\n",
    "    x_logmel = Conv2D(32,(3,3),strides=(2,2), activation='relu')(x_logmel)\n",
    "    x_logmel = BatchNormalization()(x_logmel)\n",
    "    x_logmel = MaxPool2D(strides=(1,1))(x_logmel)\n",
    "    x_logmel = Dropout(0.25)(x_logmel)\n",
    "    x_logmel = Conv2D(64,(3,3),strides=(1,1), activation='relu')(x_logmel)    \n",
    "    \n",
    "    x_logmel = MaxPool2D(strides=(2,2))(x_logmel)\n",
    "    x_logmel = Dropout(0.25)(x_logmel)\n",
    "    x_logmel = Reshape((-1,))(x_logmel)\n",
    "    x_logmel = Dense(256, activation='relu')(x_logmel)\n",
    "    \n",
    "    mfcc_inputs = Input(shape=(40, 32, 1), name='mfcc')\n",
    "    x_mfcc = Conv2D(16,(3,3),strides=(1,1), activation='relu')(mfcc_inputs)\n",
    "\n",
    "    x_mfcc = MaxPool2D(strides=(1,1))(x_mfcc)\n",
    "    x_mfcc = Dropout(0.25)(x_mfcc)\n",
    "    x_mfcc = Conv2D(32,(3,3),strides=(2,2), activation='relu')(x_mfcc)\n",
    "    x_mfcc = BatchNormalization()(x_mfcc)\n",
    "    x_mfcc = MaxPool2D(strides=(1,1))(x_mfcc)\n",
    "    x_mfcc = Dropout(0.25)(x_mfcc)\n",
    "    x_mfcc = Conv2D(64,(3,3),strides=(2,2), activation='relu')(x_mfcc)    \n",
    "    x_mfcc = MaxPool2D(strides=(1,1))(x_mfcc)\n",
    "    x_mfcc = Dropout(0.25)(x_mfcc)\n",
    "    x_mfcc = Reshape((-1,))(x_mfcc)\n",
    "    x_mfcc = Dense(256, activation='relu')(x_mfcc)\n",
    "    x = concatenate([x_logmel, x_mfcc])\n",
    "    \n",
    "    x = Dense(128, activation='relu')(x)\n",
    "#     x = Dense(128, activation='relu')(x)\n",
    "    predictions = Dense(num_labels, activation='softmax')(x)\n",
    "    \n",
    "    model = Model(inputs=[log_melspectrogram_inputs, mfcc_inputs], outputs=predictions)\n",
    "    model.compile(optimizer='Nadam',\n",
    "              loss='categorical_crossentropy',\n",
    "              metrics=['accuracy'])\n",
    "    return model    "
   ]
  },
  {
   "cell_type": "code",
   "execution_count": 50,
   "metadata": {},
   "outputs": [],
   "source": [
    "model = build_model()"
   ]
  },
  {
   "cell_type": "code",
   "execution_count": 51,
   "metadata": {},
   "outputs": [
    {
     "name": "stdout",
     "output_type": "stream",
     "text": [
      "____________________________________________________________________________________________________\n",
      "Layer (type)                     Output Shape          Param #     Connected to                     \n",
      "====================================================================================================\n",
      "log_melspectrogram (InputLayer)  (None, 128, 32, 1)    0                                            \n",
      "____________________________________________________________________________________________________\n",
      "mfcc (InputLayer)                (None, 40, 32, 1)     0                                            \n",
      "____________________________________________________________________________________________________\n",
      "conv2d_40 (Conv2D)               (None, 124, 28, 16)   416         log_melspectrogram[0][0]         \n",
      "____________________________________________________________________________________________________\n",
      "conv2d_43 (Conv2D)               (None, 38, 30, 16)    160         mfcc[0][0]                       \n",
      "____________________________________________________________________________________________________\n",
      "max_pooling2d_40 (MaxPooling2D)  (None, 123, 27, 16)   0           conv2d_40[0][0]                  \n",
      "____________________________________________________________________________________________________\n",
      "max_pooling2d_43 (MaxPooling2D)  (None, 37, 29, 16)    0           conv2d_43[0][0]                  \n",
      "____________________________________________________________________________________________________\n",
      "dropout_40 (Dropout)             (None, 123, 27, 16)   0           max_pooling2d_40[0][0]           \n",
      "____________________________________________________________________________________________________\n",
      "dropout_43 (Dropout)             (None, 37, 29, 16)    0           max_pooling2d_43[0][0]           \n",
      "____________________________________________________________________________________________________\n",
      "conv2d_41 (Conv2D)               (None, 61, 13, 32)    4640        dropout_40[0][0]                 \n",
      "____________________________________________________________________________________________________\n",
      "conv2d_44 (Conv2D)               (None, 18, 14, 32)    4640        dropout_43[0][0]                 \n",
      "____________________________________________________________________________________________________\n",
      "batch_normalization_5 (BatchNorm (None, 61, 13, 32)    128         conv2d_41[0][0]                  \n",
      "____________________________________________________________________________________________________\n",
      "batch_normalization_6 (BatchNorm (None, 18, 14, 32)    128         conv2d_44[0][0]                  \n",
      "____________________________________________________________________________________________________\n",
      "max_pooling2d_41 (MaxPooling2D)  (None, 60, 12, 32)    0           batch_normalization_5[0][0]      \n",
      "____________________________________________________________________________________________________\n",
      "max_pooling2d_44 (MaxPooling2D)  (None, 17, 13, 32)    0           batch_normalization_6[0][0]      \n",
      "____________________________________________________________________________________________________\n",
      "dropout_41 (Dropout)             (None, 60, 12, 32)    0           max_pooling2d_41[0][0]           \n",
      "____________________________________________________________________________________________________\n",
      "dropout_44 (Dropout)             (None, 17, 13, 32)    0           max_pooling2d_44[0][0]           \n",
      "____________________________________________________________________________________________________\n",
      "conv2d_42 (Conv2D)               (None, 58, 10, 64)    18496       dropout_41[0][0]                 \n",
      "____________________________________________________________________________________________________\n",
      "conv2d_45 (Conv2D)               (None, 8, 6, 64)      18496       dropout_44[0][0]                 \n",
      "____________________________________________________________________________________________________\n",
      "max_pooling2d_42 (MaxPooling2D)  (None, 29, 5, 64)     0           conv2d_42[0][0]                  \n",
      "____________________________________________________________________________________________________\n",
      "max_pooling2d_45 (MaxPooling2D)  (None, 7, 5, 64)      0           conv2d_45[0][0]                  \n",
      "____________________________________________________________________________________________________\n",
      "dropout_42 (Dropout)             (None, 29, 5, 64)     0           max_pooling2d_42[0][0]           \n",
      "____________________________________________________________________________________________________\n",
      "dropout_45 (Dropout)             (None, 7, 5, 64)      0           max_pooling2d_45[0][0]           \n",
      "____________________________________________________________________________________________________\n",
      "reshape_11 (Reshape)             (None, 9280)          0           dropout_42[0][0]                 \n",
      "____________________________________________________________________________________________________\n",
      "reshape_12 (Reshape)             (None, 2240)          0           dropout_45[0][0]                 \n",
      "____________________________________________________________________________________________________\n",
      "dense_23 (Dense)                 (None, 256)           2375936     reshape_11[0][0]                 \n",
      "____________________________________________________________________________________________________\n",
      "dense_24 (Dense)                 (None, 256)           573696      reshape_12[0][0]                 \n",
      "____________________________________________________________________________________________________\n",
      "concatenate_6 (Concatenate)      (None, 512)           0           dense_23[0][0]                   \n",
      "                                                                   dense_24[0][0]                   \n",
      "____________________________________________________________________________________________________\n",
      "dense_25 (Dense)                 (None, 128)           65664       concatenate_6[0][0]              \n",
      "____________________________________________________________________________________________________\n",
      "dense_26 (Dense)                 (None, 31)            3999        dense_25[0][0]                   \n",
      "====================================================================================================\n",
      "Total params: 3,066,399\n",
      "Trainable params: 3,066,271\n",
      "Non-trainable params: 128\n",
      "____________________________________________________________________________________________________\n"
     ]
    }
   ],
   "source": [
    "model.summary()"
   ]
  },
  {
   "cell_type": "code",
   "execution_count": 52,
   "metadata": {},
   "outputs": [
    {
     "name": "stdout",
     "output_type": "stream",
     "text": [
      "Train on 658 samples, validate on 117 samples\n",
      "Epoch 1/20\n",
      "658/658 [==============================] - 9s - loss: 5.3700 - acc: 0.0334 - val_loss: 3.4336 - val_acc: 0.0684\n",
      "Epoch 2/20\n",
      "658/658 [==============================] - 6s - loss: 3.3704 - acc: 0.0729 - val_loss: 3.4226 - val_acc: 0.0598\n",
      "Epoch 3/20\n",
      "658/658 [==============================] - 6s - loss: 3.2185 - acc: 0.1170 - val_loss: 3.3832 - val_acc: 0.0513\n",
      "Epoch 4/20\n",
      "658/658 [==============================] - 6s - loss: 2.9046 - acc: 0.1884 - val_loss: 3.2906 - val_acc: 0.1624\n",
      "Epoch 5/20\n",
      "608/658 [==========================>...] - ETA: 0s - loss: 2.4284 - acc: 0.3026"
     ]
    },
    {
     "ename": "KeyboardInterrupt",
     "evalue": "",
     "output_type": "error",
     "traceback": [
      "\u001b[1;31m---------------------------------------------------------------------------\u001b[0m",
      "\u001b[1;31mKeyboardInterrupt\u001b[0m                         Traceback (most recent call last)",
      "\u001b[1;32m<ipython-input-52-0592c23ba1b4>\u001b[0m in \u001b[0;36m<module>\u001b[1;34m()\u001b[0m\n\u001b[0;32m      1\u001b[0m model.fit([wav_data_loader.data['log_melspectrogram'], wav_data_loader.data['mfcc']], \n\u001b[0;32m      2\u001b[0m           \u001b[0my\u001b[0m\u001b[1;33m=\u001b[0m\u001b[0mto_categorical\u001b[0m\u001b[1;33m(\u001b[0m\u001b[0mwav_data_loader\u001b[0m\u001b[1;33m.\u001b[0m\u001b[0my\u001b[0m\u001b[1;33m)\u001b[0m\u001b[1;33m,\u001b[0m\u001b[1;33m\u001b[0m\u001b[0m\n\u001b[1;32m----> 3\u001b[1;33m           validation_split=0.15, epochs=20)\n\u001b[0m\u001b[0;32m      4\u001b[0m \u001b[1;33m\u001b[0m\u001b[0m\n\u001b[0;32m      5\u001b[0m \u001b[1;31m# model.fit_generator(wav_data_generator.generator(),\u001b[0m\u001b[1;33m\u001b[0m\u001b[1;33m\u001b[0m\u001b[0m\n",
      "\u001b[1;32m~\\AppData\\Local\\Continuum\\Anaconda3\\lib\\site-packages\\keras\\engine\\training.py\u001b[0m in \u001b[0;36mfit\u001b[1;34m(self, x, y, batch_size, epochs, verbose, callbacks, validation_split, validation_data, shuffle, class_weight, sample_weight, initial_epoch, steps_per_epoch, validation_steps, **kwargs)\u001b[0m\n\u001b[0;32m   1596\u001b[0m                               \u001b[0minitial_epoch\u001b[0m\u001b[1;33m=\u001b[0m\u001b[0minitial_epoch\u001b[0m\u001b[1;33m,\u001b[0m\u001b[1;33m\u001b[0m\u001b[0m\n\u001b[0;32m   1597\u001b[0m                               \u001b[0msteps_per_epoch\u001b[0m\u001b[1;33m=\u001b[0m\u001b[0msteps_per_epoch\u001b[0m\u001b[1;33m,\u001b[0m\u001b[1;33m\u001b[0m\u001b[0m\n\u001b[1;32m-> 1598\u001b[1;33m                               validation_steps=validation_steps)\n\u001b[0m\u001b[0;32m   1599\u001b[0m \u001b[1;33m\u001b[0m\u001b[0m\n\u001b[0;32m   1600\u001b[0m     def evaluate(self, x, y,\n",
      "\u001b[1;32m~\\AppData\\Local\\Continuum\\Anaconda3\\lib\\site-packages\\keras\\engine\\training.py\u001b[0m in \u001b[0;36m_fit_loop\u001b[1;34m(self, f, ins, out_labels, batch_size, epochs, verbose, callbacks, val_f, val_ins, shuffle, callback_metrics, initial_epoch, steps_per_epoch, validation_steps)\u001b[0m\n\u001b[0;32m   1181\u001b[0m                     \u001b[0mbatch_logs\u001b[0m\u001b[1;33m[\u001b[0m\u001b[1;34m'size'\u001b[0m\u001b[1;33m]\u001b[0m \u001b[1;33m=\u001b[0m \u001b[0mlen\u001b[0m\u001b[1;33m(\u001b[0m\u001b[0mbatch_ids\u001b[0m\u001b[1;33m)\u001b[0m\u001b[1;33m\u001b[0m\u001b[0m\n\u001b[0;32m   1182\u001b[0m                     \u001b[0mcallbacks\u001b[0m\u001b[1;33m.\u001b[0m\u001b[0mon_batch_begin\u001b[0m\u001b[1;33m(\u001b[0m\u001b[0mbatch_index\u001b[0m\u001b[1;33m,\u001b[0m \u001b[0mbatch_logs\u001b[0m\u001b[1;33m)\u001b[0m\u001b[1;33m\u001b[0m\u001b[0m\n\u001b[1;32m-> 1183\u001b[1;33m                     \u001b[0mouts\u001b[0m \u001b[1;33m=\u001b[0m \u001b[0mf\u001b[0m\u001b[1;33m(\u001b[0m\u001b[0mins_batch\u001b[0m\u001b[1;33m)\u001b[0m\u001b[1;33m\u001b[0m\u001b[0m\n\u001b[0m\u001b[0;32m   1184\u001b[0m                     \u001b[1;32mif\u001b[0m \u001b[1;32mnot\u001b[0m \u001b[0misinstance\u001b[0m\u001b[1;33m(\u001b[0m\u001b[0mouts\u001b[0m\u001b[1;33m,\u001b[0m \u001b[0mlist\u001b[0m\u001b[1;33m)\u001b[0m\u001b[1;33m:\u001b[0m\u001b[1;33m\u001b[0m\u001b[0m\n\u001b[0;32m   1185\u001b[0m                         \u001b[0mouts\u001b[0m \u001b[1;33m=\u001b[0m \u001b[1;33m[\u001b[0m\u001b[0mouts\u001b[0m\u001b[1;33m]\u001b[0m\u001b[1;33m\u001b[0m\u001b[0m\n",
      "\u001b[1;32m~\\AppData\\Local\\Continuum\\Anaconda3\\lib\\site-packages\\keras\\backend\\tensorflow_backend.py\u001b[0m in \u001b[0;36m__call__\u001b[1;34m(self, inputs)\u001b[0m\n\u001b[0;32m   2271\u001b[0m         updated = session.run(self.outputs + [self.updates_op],\n\u001b[0;32m   2272\u001b[0m                               \u001b[0mfeed_dict\u001b[0m\u001b[1;33m=\u001b[0m\u001b[0mfeed_dict\u001b[0m\u001b[1;33m,\u001b[0m\u001b[1;33m\u001b[0m\u001b[0m\n\u001b[1;32m-> 2273\u001b[1;33m                               **self.session_kwargs)\n\u001b[0m\u001b[0;32m   2274\u001b[0m         \u001b[1;32mreturn\u001b[0m \u001b[0mupdated\u001b[0m\u001b[1;33m[\u001b[0m\u001b[1;33m:\u001b[0m\u001b[0mlen\u001b[0m\u001b[1;33m(\u001b[0m\u001b[0mself\u001b[0m\u001b[1;33m.\u001b[0m\u001b[0moutputs\u001b[0m\u001b[1;33m)\u001b[0m\u001b[1;33m]\u001b[0m\u001b[1;33m\u001b[0m\u001b[0m\n\u001b[0;32m   2275\u001b[0m \u001b[1;33m\u001b[0m\u001b[0m\n",
      "\u001b[1;32m~\\AppData\\Local\\Continuum\\Anaconda3\\lib\\site-packages\\tensorflow\\python\\client\\session.py\u001b[0m in \u001b[0;36mrun\u001b[1;34m(self, fetches, feed_dict, options, run_metadata)\u001b[0m\n\u001b[0;32m    887\u001b[0m     \u001b[1;32mtry\u001b[0m\u001b[1;33m:\u001b[0m\u001b[1;33m\u001b[0m\u001b[0m\n\u001b[0;32m    888\u001b[0m       result = self._run(None, fetches, feed_dict, options_ptr,\n\u001b[1;32m--> 889\u001b[1;33m                          run_metadata_ptr)\n\u001b[0m\u001b[0;32m    890\u001b[0m       \u001b[1;32mif\u001b[0m \u001b[0mrun_metadata\u001b[0m\u001b[1;33m:\u001b[0m\u001b[1;33m\u001b[0m\u001b[0m\n\u001b[0;32m    891\u001b[0m         \u001b[0mproto_data\u001b[0m \u001b[1;33m=\u001b[0m \u001b[0mtf_session\u001b[0m\u001b[1;33m.\u001b[0m\u001b[0mTF_GetBuffer\u001b[0m\u001b[1;33m(\u001b[0m\u001b[0mrun_metadata_ptr\u001b[0m\u001b[1;33m)\u001b[0m\u001b[1;33m\u001b[0m\u001b[0m\n",
      "\u001b[1;32m~\\AppData\\Local\\Continuum\\Anaconda3\\lib\\site-packages\\tensorflow\\python\\client\\session.py\u001b[0m in \u001b[0;36m_run\u001b[1;34m(self, handle, fetches, feed_dict, options, run_metadata)\u001b[0m\n\u001b[0;32m   1118\u001b[0m     \u001b[1;32mif\u001b[0m \u001b[0mfinal_fetches\u001b[0m \u001b[1;32mor\u001b[0m \u001b[0mfinal_targets\u001b[0m \u001b[1;32mor\u001b[0m \u001b[1;33m(\u001b[0m\u001b[0mhandle\u001b[0m \u001b[1;32mand\u001b[0m \u001b[0mfeed_dict_tensor\u001b[0m\u001b[1;33m)\u001b[0m\u001b[1;33m:\u001b[0m\u001b[1;33m\u001b[0m\u001b[0m\n\u001b[0;32m   1119\u001b[0m       results = self._do_run(handle, final_targets, final_fetches,\n\u001b[1;32m-> 1120\u001b[1;33m                              feed_dict_tensor, options, run_metadata)\n\u001b[0m\u001b[0;32m   1121\u001b[0m     \u001b[1;32melse\u001b[0m\u001b[1;33m:\u001b[0m\u001b[1;33m\u001b[0m\u001b[0m\n\u001b[0;32m   1122\u001b[0m       \u001b[0mresults\u001b[0m \u001b[1;33m=\u001b[0m \u001b[1;33m[\u001b[0m\u001b[1;33m]\u001b[0m\u001b[1;33m\u001b[0m\u001b[0m\n",
      "\u001b[1;32m~\\AppData\\Local\\Continuum\\Anaconda3\\lib\\site-packages\\tensorflow\\python\\client\\session.py\u001b[0m in \u001b[0;36m_do_run\u001b[1;34m(self, handle, target_list, fetch_list, feed_dict, options, run_metadata)\u001b[0m\n\u001b[0;32m   1315\u001b[0m     \u001b[1;32mif\u001b[0m \u001b[0mhandle\u001b[0m \u001b[1;32mis\u001b[0m \u001b[1;32mNone\u001b[0m\u001b[1;33m:\u001b[0m\u001b[1;33m\u001b[0m\u001b[0m\n\u001b[0;32m   1316\u001b[0m       return self._do_call(_run_fn, self._session, feeds, fetches, targets,\n\u001b[1;32m-> 1317\u001b[1;33m                            options, run_metadata)\n\u001b[0m\u001b[0;32m   1318\u001b[0m     \u001b[1;32melse\u001b[0m\u001b[1;33m:\u001b[0m\u001b[1;33m\u001b[0m\u001b[0m\n\u001b[0;32m   1319\u001b[0m       \u001b[1;32mreturn\u001b[0m \u001b[0mself\u001b[0m\u001b[1;33m.\u001b[0m\u001b[0m_do_call\u001b[0m\u001b[1;33m(\u001b[0m\u001b[0m_prun_fn\u001b[0m\u001b[1;33m,\u001b[0m \u001b[0mself\u001b[0m\u001b[1;33m.\u001b[0m\u001b[0m_session\u001b[0m\u001b[1;33m,\u001b[0m \u001b[0mhandle\u001b[0m\u001b[1;33m,\u001b[0m \u001b[0mfeeds\u001b[0m\u001b[1;33m,\u001b[0m \u001b[0mfetches\u001b[0m\u001b[1;33m)\u001b[0m\u001b[1;33m\u001b[0m\u001b[0m\n",
      "\u001b[1;32m~\\AppData\\Local\\Continuum\\Anaconda3\\lib\\site-packages\\tensorflow\\python\\client\\session.py\u001b[0m in \u001b[0;36m_do_call\u001b[1;34m(self, fn, *args)\u001b[0m\n\u001b[0;32m   1321\u001b[0m   \u001b[1;32mdef\u001b[0m \u001b[0m_do_call\u001b[0m\u001b[1;33m(\u001b[0m\u001b[0mself\u001b[0m\u001b[1;33m,\u001b[0m \u001b[0mfn\u001b[0m\u001b[1;33m,\u001b[0m \u001b[1;33m*\u001b[0m\u001b[0margs\u001b[0m\u001b[1;33m)\u001b[0m\u001b[1;33m:\u001b[0m\u001b[1;33m\u001b[0m\u001b[0m\n\u001b[0;32m   1322\u001b[0m     \u001b[1;32mtry\u001b[0m\u001b[1;33m:\u001b[0m\u001b[1;33m\u001b[0m\u001b[0m\n\u001b[1;32m-> 1323\u001b[1;33m       \u001b[1;32mreturn\u001b[0m \u001b[0mfn\u001b[0m\u001b[1;33m(\u001b[0m\u001b[1;33m*\u001b[0m\u001b[0margs\u001b[0m\u001b[1;33m)\u001b[0m\u001b[1;33m\u001b[0m\u001b[0m\n\u001b[0m\u001b[0;32m   1324\u001b[0m     \u001b[1;32mexcept\u001b[0m \u001b[0merrors\u001b[0m\u001b[1;33m.\u001b[0m\u001b[0mOpError\u001b[0m \u001b[1;32mas\u001b[0m \u001b[0me\u001b[0m\u001b[1;33m:\u001b[0m\u001b[1;33m\u001b[0m\u001b[0m\n\u001b[0;32m   1325\u001b[0m       \u001b[0mmessage\u001b[0m \u001b[1;33m=\u001b[0m \u001b[0mcompat\u001b[0m\u001b[1;33m.\u001b[0m\u001b[0mas_text\u001b[0m\u001b[1;33m(\u001b[0m\u001b[0me\u001b[0m\u001b[1;33m.\u001b[0m\u001b[0mmessage\u001b[0m\u001b[1;33m)\u001b[0m\u001b[1;33m\u001b[0m\u001b[0m\n",
      "\u001b[1;32m~\\AppData\\Local\\Continuum\\Anaconda3\\lib\\site-packages\\tensorflow\\python\\client\\session.py\u001b[0m in \u001b[0;36m_run_fn\u001b[1;34m(session, feed_dict, fetch_list, target_list, options, run_metadata)\u001b[0m\n\u001b[0;32m   1300\u001b[0m           return tf_session.TF_Run(session, options,\n\u001b[0;32m   1301\u001b[0m                                    \u001b[0mfeed_dict\u001b[0m\u001b[1;33m,\u001b[0m \u001b[0mfetch_list\u001b[0m\u001b[1;33m,\u001b[0m \u001b[0mtarget_list\u001b[0m\u001b[1;33m,\u001b[0m\u001b[1;33m\u001b[0m\u001b[0m\n\u001b[1;32m-> 1302\u001b[1;33m                                    status, run_metadata)\n\u001b[0m\u001b[0;32m   1303\u001b[0m \u001b[1;33m\u001b[0m\u001b[0m\n\u001b[0;32m   1304\u001b[0m     \u001b[1;32mdef\u001b[0m \u001b[0m_prun_fn\u001b[0m\u001b[1;33m(\u001b[0m\u001b[0msession\u001b[0m\u001b[1;33m,\u001b[0m \u001b[0mhandle\u001b[0m\u001b[1;33m,\u001b[0m \u001b[0mfeed_dict\u001b[0m\u001b[1;33m,\u001b[0m \u001b[0mfetch_list\u001b[0m\u001b[1;33m)\u001b[0m\u001b[1;33m:\u001b[0m\u001b[1;33m\u001b[0m\u001b[0m\n",
      "\u001b[1;31mKeyboardInterrupt\u001b[0m: "
     ]
    }
   ],
   "source": [
    "model.fit([wav_data_loader.data['log_melspectrogram'], wav_data_loader.data['mfcc']], \n",
    "          y=to_categorical(wav_data_loader.y), \n",
    "          validation_split=0.15, epochs=20)\n",
    "\n",
    "# model.fit_generator(wav_data_generator.generator(), \n",
    "#                     steps_per_epoch=wav_data_generator.num_examples//wav_data_generator.batch_size,\n",
    "#                    workers=4)\n",
    "                    "
   ]
  },
  {
   "cell_type": "code",
   "execution_count": null,
   "metadata": {
    "collapsed": true
   },
   "outputs": [],
   "source": []
  },
  {
   "cell_type": "code",
   "execution_count": 21,
   "metadata": {
    "collapsed": true
   },
   "outputs": [],
   "source": [
    "model.save('model.h5')"
   ]
  },
  {
   "cell_type": "code",
   "execution_count": null,
   "metadata": {
    "collapsed": true
   },
   "outputs": [],
   "source": []
  }
 ],
 "metadata": {
  "anaconda-cloud": {},
  "kernelspec": {
   "display_name": "Python 3",
   "language": "python",
   "name": "python3"
  },
  "language_info": {
   "codemirror_mode": {
    "name": "ipython",
    "version": 3
   },
   "file_extension": ".py",
   "mimetype": "text/x-python",
   "name": "python",
   "nbconvert_exporter": "python",
   "pygments_lexer": "ipython3",
   "version": "3.6.2"
  }
 },
 "nbformat": 4,
 "nbformat_minor": 1
}
