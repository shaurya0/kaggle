{
 "cells": [
  {
   "cell_type": "code",
   "execution_count": 1,
   "metadata": {},
   "outputs": [],
   "source": [
    "%load_ext autoreload\n",
    "%autoreload 2"
   ]
  },
  {
   "cell_type": "code",
   "execution_count": 23,
   "metadata": {},
   "outputs": [],
   "source": [
    "import numpy as np\n",
    "import tensorflow as tf\n",
    "from keras.layers import Dense, Input, Conv2D, BatchNormalization, Concatenate\n",
    "from keras.layers import merge, concatenate\n",
    "from keras.layers import MaxPool2D, MaxPooling2D, Reshape, Dropout, SeparableConv2D\n",
    "from keras.models import Model\n",
    "from keras.utils import to_categorical\n",
    "import os\n",
    "\n",
    "# matplotlib for displaying the output\n",
    "import matplotlib.pyplot as plt\n",
    "import matplotlib.style as ms\n",
    "ms.use('seaborn-muted')\n",
    "%matplotlib inline\n",
    "from WavDataLoader import WavDataLoader\n",
    "from WavDataGenerator import WavDataGenerator"
   ]
  },
  {
   "cell_type": "code",
   "execution_count": 24,
   "metadata": {},
   "outputs": [],
   "source": [
    "labels = ['bed', 'bird', 'cat', 'dog', 'down', 'eight', 'five', 'four', 'go', 'happy', 'house', 'left', 'marvin', 'nine', 'no', 'off', 'on', 'one', 'right', 'seven', 'sheila', 'silence', 'six', 'stop', 'three', 'tree', 'two', 'up', 'wow', 'yes', 'zero']\n",
    "num_labels = len(labels)"
   ]
  },
  {
   "cell_type": "code",
   "execution_count": 25,
   "metadata": {},
   "outputs": [],
   "source": [
    "if os.name is 'nt':\n",
    "    data_dir = r'C:\\Development\\kaggle\\tensorflow-speech-recognition-challenge\\data\\train\\audio'\n",
    "else:\n",
    "    data_dir = r'/home/shaur141/Development/kaggle/tensorflow-speech-recognition-challenge/data/train/audio'\n",
    "    \n",
    "wav_data_loader = WavDataLoader(data_dir, labels)\n"
   ]
  },
  {
   "cell_type": "code",
   "execution_count": 46,
   "metadata": {},
   "outputs": [],
   "source": [
    "def build_model():\n",
    "    log_melspectrogram_inputs = Input(shape=(128, 32, 1), name='log_melspectrogram')\n",
    "    \n",
    "    \n",
    "#     x = Reshape((wav_data_loader.nx*wav_data_loader.ny,))(inputs)\n",
    "#     x = BatchNormalization()(inputs)\n",
    "    x_logmel = Conv2D(16,(5,5),strides=(1,1), activation='relu')(log_melspectrogram_inputs)\n",
    "#     x_logmel = BatchNormalization()(x_logmel)\n",
    "    x_logmel = MaxPool2D(strides=(1,1))(x_logmel)\n",
    "    x_logmel = Dropout(0.25)(x_logmel)\n",
    "    x_logmel = Conv2D(32,(3,3),strides=(2,2), activation='relu')(x_logmel)\n",
    "    x_logmel = BatchNormalization()(x_logmel)\n",
    "    x_logmel = MaxPool2D(strides=(1,1))(x_logmel)\n",
    "    x_logmel = Dropout(0.25)(x_logmel)\n",
    "    x_logmel = Conv2D(64,(3,3),strides=(1,1), activation='relu')(x_logmel)    \n",
    "    \n",
    "    x_logmel = MaxPool2D(strides=(2,2))(x_logmel)\n",
    "    x_logmel = Dropout(0.25)(x_logmel)\n",
    "    x_logmel = Reshape((-1,))(x_logmel)\n",
    "    x_logmel = Dense(256, activation='relu')(x_logmel)\n",
    "    \n",
    "    mfcc_inputs = Input(shape=(40, 32, 1), name='mfcc')\n",
    "    x_mfcc = Conv2D(16,(3,3),strides=(1,1), activation='relu')(mfcc_inputs)\n",
    "\n",
    "    x_mfcc = MaxPool2D(strides=(1,1))(x_mfcc)\n",
    "    x_mfcc = Dropout(0.25)(x_mfcc)\n",
    "    x_mfcc = Conv2D(32,(3,3),strides=(2,2), activation='relu')(x_mfcc)\n",
    "    x_mfcc = BatchNormalization()(x_mfcc)\n",
    "    x_mfcc = MaxPool2D(strides=(1,1))(x_mfcc)\n",
    "    x_mfcc = Dropout(0.25)(x_mfcc)\n",
    "    x_mfcc = Conv2D(64,(3,3),strides=(2,2), activation='relu')(x_mfcc)    \n",
    "    x_mfcc = MaxPool2D(strides=(1,1))(x_mfcc)\n",
    "    x_mfcc = Dropout(0.25)(x_mfcc)\n",
    "    x_mfcc = Reshape((-1,))(x_mfcc)\n",
    "    x_mfcc = Dense(256, activation='relu')(x_mfcc)\n",
    "    x = concatenate([x_logmel, x_mfcc])\n",
    "    \n",
    "    x = Dense(128, activation='relu')(x)\n",
    "#     x = Dense(128, activation='relu')(x)\n",
    "    predictions = Dense(num_labels, activation='softmax')(x)\n",
    "    \n",
    "    model = Model(inputs=[log_melspectrogram_inputs, mfcc_inputs], outputs=predictions)\n",
    "    model.compile(optimizer='Nadam',\n",
    "              loss='categorical_crossentropy',\n",
    "              metrics=['accuracy'])\n",
    "    return model    "
   ]
  },
  {
   "cell_type": "code",
   "execution_count": 47,
   "metadata": {},
   "outputs": [],
   "source": [
    "model = build_model()"
   ]
  },
  {
   "cell_type": "code",
   "execution_count": 48,
   "metadata": {},
   "outputs": [
    {
     "name": "stdout",
     "output_type": "stream",
     "text": [
      "____________________________________________________________________________________________________\n",
      "Layer (type)                     Output Shape          Param #     Connected to                     \n",
      "====================================================================================================\n",
      "log_melspectrogram (InputLayer)  (None, 128, 32, 1)    0                                            \n",
      "____________________________________________________________________________________________________\n",
      "mfcc (InputLayer)                (None, 40, 32, 1)     0                                            \n",
      "____________________________________________________________________________________________________\n",
      "conv2d_34 (Conv2D)               (None, 124, 28, 16)   416         log_melspectrogram[0][0]         \n",
      "____________________________________________________________________________________________________\n",
      "conv2d_37 (Conv2D)               (None, 38, 30, 16)    160         mfcc[0][0]                       \n",
      "____________________________________________________________________________________________________\n",
      "max_pooling2d_34 (MaxPooling2D)  (None, 123, 27, 16)   0           conv2d_34[0][0]                  \n",
      "____________________________________________________________________________________________________\n",
      "max_pooling2d_37 (MaxPooling2D)  (None, 37, 29, 16)    0           conv2d_37[0][0]                  \n",
      "____________________________________________________________________________________________________\n",
      "dropout_34 (Dropout)             (None, 123, 27, 16)   0           max_pooling2d_34[0][0]           \n",
      "____________________________________________________________________________________________________\n",
      "dropout_37 (Dropout)             (None, 37, 29, 16)    0           max_pooling2d_37[0][0]           \n",
      "____________________________________________________________________________________________________\n",
      "conv2d_35 (Conv2D)               (None, 61, 13, 32)    4640        dropout_34[0][0]                 \n",
      "____________________________________________________________________________________________________\n",
      "conv2d_38 (Conv2D)               (None, 18, 14, 32)    4640        dropout_37[0][0]                 \n",
      "____________________________________________________________________________________________________\n",
      "batch_normalization_3 (BatchNorm (None, 61, 13, 32)    128         conv2d_35[0][0]                  \n",
      "____________________________________________________________________________________________________\n",
      "batch_normalization_4 (BatchNorm (None, 18, 14, 32)    128         conv2d_38[0][0]                  \n",
      "____________________________________________________________________________________________________\n",
      "max_pooling2d_35 (MaxPooling2D)  (None, 60, 12, 32)    0           batch_normalization_3[0][0]      \n",
      "____________________________________________________________________________________________________\n",
      "max_pooling2d_38 (MaxPooling2D)  (None, 17, 13, 32)    0           batch_normalization_4[0][0]      \n",
      "____________________________________________________________________________________________________\n",
      "dropout_35 (Dropout)             (None, 60, 12, 32)    0           max_pooling2d_35[0][0]           \n",
      "____________________________________________________________________________________________________\n",
      "dropout_38 (Dropout)             (None, 17, 13, 32)    0           max_pooling2d_38[0][0]           \n",
      "____________________________________________________________________________________________________\n",
      "conv2d_36 (Conv2D)               (None, 58, 10, 64)    18496       dropout_35[0][0]                 \n",
      "____________________________________________________________________________________________________\n",
      "conv2d_39 (Conv2D)               (None, 8, 6, 64)      18496       dropout_38[0][0]                 \n",
      "____________________________________________________________________________________________________\n",
      "max_pooling2d_36 (MaxPooling2D)  (None, 29, 5, 64)     0           conv2d_36[0][0]                  \n",
      "____________________________________________________________________________________________________\n",
      "max_pooling2d_39 (MaxPooling2D)  (None, 7, 5, 64)      0           conv2d_39[0][0]                  \n",
      "____________________________________________________________________________________________________\n",
      "dropout_36 (Dropout)             (None, 29, 5, 64)     0           max_pooling2d_36[0][0]           \n",
      "____________________________________________________________________________________________________\n",
      "dropout_39 (Dropout)             (None, 7, 5, 64)      0           max_pooling2d_39[0][0]           \n",
      "____________________________________________________________________________________________________\n",
      "reshape_9 (Reshape)              (None, 9280)          0           dropout_36[0][0]                 \n",
      "____________________________________________________________________________________________________\n",
      "reshape_10 (Reshape)             (None, 2240)          0           dropout_39[0][0]                 \n",
      "____________________________________________________________________________________________________\n",
      "dense_19 (Dense)                 (None, 256)           2375936     reshape_9[0][0]                  \n",
      "____________________________________________________________________________________________________\n",
      "dense_20 (Dense)                 (None, 256)           573696      reshape_10[0][0]                 \n",
      "____________________________________________________________________________________________________\n",
      "concatenate_5 (Concatenate)      (None, 512)           0           dense_19[0][0]                   \n",
      "                                                                   dense_20[0][0]                   \n",
      "____________________________________________________________________________________________________\n",
      "dense_21 (Dense)                 (None, 128)           65664       concatenate_5[0][0]              \n",
      "____________________________________________________________________________________________________\n",
      "dense_22 (Dense)                 (None, 31)            3999        dense_21[0][0]                   \n",
      "====================================================================================================\n",
      "Total params: 3,066,399\n",
      "Trainable params: 3,066,271\n",
      "Non-trainable params: 128\n",
      "____________________________________________________________________________________________________\n"
     ]
    }
   ],
   "source": [
    "model.summary()"
   ]
  },
  {
   "cell_type": "code",
   "execution_count": 13,
   "metadata": {},
   "outputs": [
    {
     "name": "stdout",
     "output_type": "stream",
     "text": [
      "Train on 1317 samples, validate on 233 samples\n",
      "Epoch 1/20\n",
      "1317/1317 [==============================] - 2s - loss: 3.4366 - acc: 0.0243 - val_loss: 3.4372 - val_acc: 0.0258\n",
      "Epoch 2/20\n",
      "1317/1317 [==============================] - 1s - loss: 3.4348 - acc: 0.0266 - val_loss: 3.4402 - val_acc: 0.0172\n",
      "Epoch 3/20\n",
      "1317/1317 [==============================] - 1s - loss: 3.4307 - acc: 0.0380 - val_loss: 3.4232 - val_acc: 0.0558\n",
      "Epoch 4/20\n",
      "1317/1317 [==============================] - 1s - loss: 3.2604 - acc: 0.0774 - val_loss: 3.1287 - val_acc: 0.0815\n",
      "Epoch 5/20\n",
      "1317/1317 [==============================] - 1s - loss: 2.9627 - acc: 0.1336 - val_loss: 3.1110 - val_acc: 0.0815\n",
      "Epoch 6/20\n",
      "1317/1317 [==============================] - 1s - loss: 2.7531 - acc: 0.1557 - val_loss: 2.8900 - val_acc: 0.1288\n",
      "Epoch 7/20\n",
      "1317/1317 [==============================] - 1s - loss: 2.6257 - acc: 0.1838 - val_loss: 2.8590 - val_acc: 0.1330\n",
      "Epoch 8/20\n",
      "1317/1317 [==============================] - 1s - loss: 2.5009 - acc: 0.2194 - val_loss: 2.7666 - val_acc: 0.1288\n",
      "Epoch 9/20\n",
      "1317/1317 [==============================] - 1s - loss: 2.3841 - acc: 0.2620 - val_loss: 2.5581 - val_acc: 0.1459\n",
      "Epoch 10/20\n",
      "1317/1317 [==============================] - 1s - loss: 2.2740 - acc: 0.2809 - val_loss: 2.4296 - val_acc: 0.2446\n",
      "Epoch 11/20\n",
      "1317/1317 [==============================] - 1s - loss: 2.1382 - acc: 0.3257 - val_loss: 2.2476 - val_acc: 0.2532\n",
      "Epoch 12/20\n",
      "1317/1317 [==============================] - 1s - loss: 2.0215 - acc: 0.3554 - val_loss: 2.8207 - val_acc: 0.2532\n",
      "Epoch 13/20\n",
      "1317/1317 [==============================] - 1s - loss: 1.8808 - acc: 0.4024 - val_loss: 3.4162 - val_acc: 0.1545\n",
      "Epoch 14/20\n",
      "1317/1317 [==============================] - 1s - loss: 1.8137 - acc: 0.4146 - val_loss: 2.1162 - val_acc: 0.3562\n",
      "Epoch 15/20\n",
      "1248/1317 [===========================>..] - ETA: 0s - loss: 1.5659 - acc: 0.4872"
     ]
    },
    {
     "ename": "KeyboardInterrupt",
     "evalue": "",
     "output_type": "error",
     "traceback": [
      "\u001b[1;31m---------------------------------------------------------------------------\u001b[0m",
      "\u001b[1;31mKeyboardInterrupt\u001b[0m                         Traceback (most recent call last)",
      "\u001b[1;32m<ipython-input-13-80bf73c883e4>\u001b[0m in \u001b[0;36m<module>\u001b[1;34m()\u001b[0m\n\u001b[1;32m----> 1\u001b[1;33m \u001b[0mmodel\u001b[0m\u001b[1;33m.\u001b[0m\u001b[0mfit\u001b[0m\u001b[1;33m(\u001b[0m\u001b[0mx\u001b[0m\u001b[1;33m=\u001b[0m\u001b[0mwav_data_loader\u001b[0m\u001b[1;33m.\u001b[0m\u001b[0mX\u001b[0m\u001b[1;33m,\u001b[0m \u001b[0my\u001b[0m\u001b[1;33m=\u001b[0m\u001b[0mto_categorical\u001b[0m\u001b[1;33m(\u001b[0m\u001b[0mwav_data_loader\u001b[0m\u001b[1;33m.\u001b[0m\u001b[0my\u001b[0m\u001b[1;33m)\u001b[0m\u001b[1;33m,\u001b[0m \u001b[0mvalidation_split\u001b[0m\u001b[1;33m=\u001b[0m\u001b[1;36m0.15\u001b[0m\u001b[1;33m,\u001b[0m \u001b[0mepochs\u001b[0m\u001b[1;33m=\u001b[0m\u001b[1;36m20\u001b[0m\u001b[1;33m)\u001b[0m\u001b[1;33m\u001b[0m\u001b[0m\n\u001b[0m\u001b[0;32m      2\u001b[0m \u001b[1;33m\u001b[0m\u001b[0m\n\u001b[0;32m      3\u001b[0m \u001b[1;31m# model.fit_generator(wav_data_generator.generator(),\u001b[0m\u001b[1;33m\u001b[0m\u001b[1;33m\u001b[0m\u001b[0m\n\u001b[0;32m      4\u001b[0m \u001b[1;31m#                     steps_per_epoch=wav_data_generator.num_examples//wav_data_generator.batch_size,\u001b[0m\u001b[1;33m\u001b[0m\u001b[1;33m\u001b[0m\u001b[0m\n\u001b[0;32m      5\u001b[0m \u001b[1;31m#                    workers=4)\u001b[0m\u001b[1;33m\u001b[0m\u001b[1;33m\u001b[0m\u001b[0m\n",
      "\u001b[1;32m~\\AppData\\Local\\Continuum\\Anaconda3\\lib\\site-packages\\keras\\engine\\training.py\u001b[0m in \u001b[0;36mfit\u001b[1;34m(self, x, y, batch_size, epochs, verbose, callbacks, validation_split, validation_data, shuffle, class_weight, sample_weight, initial_epoch, steps_per_epoch, validation_steps, **kwargs)\u001b[0m\n\u001b[0;32m   1596\u001b[0m                               \u001b[0minitial_epoch\u001b[0m\u001b[1;33m=\u001b[0m\u001b[0minitial_epoch\u001b[0m\u001b[1;33m,\u001b[0m\u001b[1;33m\u001b[0m\u001b[0m\n\u001b[0;32m   1597\u001b[0m                               \u001b[0msteps_per_epoch\u001b[0m\u001b[1;33m=\u001b[0m\u001b[0msteps_per_epoch\u001b[0m\u001b[1;33m,\u001b[0m\u001b[1;33m\u001b[0m\u001b[0m\n\u001b[1;32m-> 1598\u001b[1;33m                               validation_steps=validation_steps)\n\u001b[0m\u001b[0;32m   1599\u001b[0m \u001b[1;33m\u001b[0m\u001b[0m\n\u001b[0;32m   1600\u001b[0m     def evaluate(self, x, y,\n",
      "\u001b[1;32m~\\AppData\\Local\\Continuum\\Anaconda3\\lib\\site-packages\\keras\\engine\\training.py\u001b[0m in \u001b[0;36m_fit_loop\u001b[1;34m(self, f, ins, out_labels, batch_size, epochs, verbose, callbacks, val_f, val_ins, shuffle, callback_metrics, initial_epoch, steps_per_epoch, validation_steps)\u001b[0m\n\u001b[0;32m   1181\u001b[0m                     \u001b[0mbatch_logs\u001b[0m\u001b[1;33m[\u001b[0m\u001b[1;34m'size'\u001b[0m\u001b[1;33m]\u001b[0m \u001b[1;33m=\u001b[0m \u001b[0mlen\u001b[0m\u001b[1;33m(\u001b[0m\u001b[0mbatch_ids\u001b[0m\u001b[1;33m)\u001b[0m\u001b[1;33m\u001b[0m\u001b[0m\n\u001b[0;32m   1182\u001b[0m                     \u001b[0mcallbacks\u001b[0m\u001b[1;33m.\u001b[0m\u001b[0mon_batch_begin\u001b[0m\u001b[1;33m(\u001b[0m\u001b[0mbatch_index\u001b[0m\u001b[1;33m,\u001b[0m \u001b[0mbatch_logs\u001b[0m\u001b[1;33m)\u001b[0m\u001b[1;33m\u001b[0m\u001b[0m\n\u001b[1;32m-> 1183\u001b[1;33m                     \u001b[0mouts\u001b[0m \u001b[1;33m=\u001b[0m \u001b[0mf\u001b[0m\u001b[1;33m(\u001b[0m\u001b[0mins_batch\u001b[0m\u001b[1;33m)\u001b[0m\u001b[1;33m\u001b[0m\u001b[0m\n\u001b[0m\u001b[0;32m   1184\u001b[0m                     \u001b[1;32mif\u001b[0m \u001b[1;32mnot\u001b[0m \u001b[0misinstance\u001b[0m\u001b[1;33m(\u001b[0m\u001b[0mouts\u001b[0m\u001b[1;33m,\u001b[0m \u001b[0mlist\u001b[0m\u001b[1;33m)\u001b[0m\u001b[1;33m:\u001b[0m\u001b[1;33m\u001b[0m\u001b[0m\n\u001b[0;32m   1185\u001b[0m                         \u001b[0mouts\u001b[0m \u001b[1;33m=\u001b[0m \u001b[1;33m[\u001b[0m\u001b[0mouts\u001b[0m\u001b[1;33m]\u001b[0m\u001b[1;33m\u001b[0m\u001b[0m\n",
      "\u001b[1;32m~\\AppData\\Local\\Continuum\\Anaconda3\\lib\\site-packages\\keras\\backend\\tensorflow_backend.py\u001b[0m in \u001b[0;36m__call__\u001b[1;34m(self, inputs)\u001b[0m\n\u001b[0;32m   2271\u001b[0m         updated = session.run(self.outputs + [self.updates_op],\n\u001b[0;32m   2272\u001b[0m                               \u001b[0mfeed_dict\u001b[0m\u001b[1;33m=\u001b[0m\u001b[0mfeed_dict\u001b[0m\u001b[1;33m,\u001b[0m\u001b[1;33m\u001b[0m\u001b[0m\n\u001b[1;32m-> 2273\u001b[1;33m                               **self.session_kwargs)\n\u001b[0m\u001b[0;32m   2274\u001b[0m         \u001b[1;32mreturn\u001b[0m \u001b[0mupdated\u001b[0m\u001b[1;33m[\u001b[0m\u001b[1;33m:\u001b[0m\u001b[0mlen\u001b[0m\u001b[1;33m(\u001b[0m\u001b[0mself\u001b[0m\u001b[1;33m.\u001b[0m\u001b[0moutputs\u001b[0m\u001b[1;33m)\u001b[0m\u001b[1;33m]\u001b[0m\u001b[1;33m\u001b[0m\u001b[0m\n\u001b[0;32m   2275\u001b[0m \u001b[1;33m\u001b[0m\u001b[0m\n",
      "\u001b[1;32m~\\AppData\\Local\\Continuum\\Anaconda3\\lib\\site-packages\\tensorflow\\python\\client\\session.py\u001b[0m in \u001b[0;36mrun\u001b[1;34m(self, fetches, feed_dict, options, run_metadata)\u001b[0m\n\u001b[0;32m    887\u001b[0m     \u001b[1;32mtry\u001b[0m\u001b[1;33m:\u001b[0m\u001b[1;33m\u001b[0m\u001b[0m\n\u001b[0;32m    888\u001b[0m       result = self._run(None, fetches, feed_dict, options_ptr,\n\u001b[1;32m--> 889\u001b[1;33m                          run_metadata_ptr)\n\u001b[0m\u001b[0;32m    890\u001b[0m       \u001b[1;32mif\u001b[0m \u001b[0mrun_metadata\u001b[0m\u001b[1;33m:\u001b[0m\u001b[1;33m\u001b[0m\u001b[0m\n\u001b[0;32m    891\u001b[0m         \u001b[0mproto_data\u001b[0m \u001b[1;33m=\u001b[0m \u001b[0mtf_session\u001b[0m\u001b[1;33m.\u001b[0m\u001b[0mTF_GetBuffer\u001b[0m\u001b[1;33m(\u001b[0m\u001b[0mrun_metadata_ptr\u001b[0m\u001b[1;33m)\u001b[0m\u001b[1;33m\u001b[0m\u001b[0m\n",
      "\u001b[1;32m~\\AppData\\Local\\Continuum\\Anaconda3\\lib\\site-packages\\tensorflow\\python\\client\\session.py\u001b[0m in \u001b[0;36m_run\u001b[1;34m(self, handle, fetches, feed_dict, options, run_metadata)\u001b[0m\n\u001b[0;32m   1118\u001b[0m     \u001b[1;32mif\u001b[0m \u001b[0mfinal_fetches\u001b[0m \u001b[1;32mor\u001b[0m \u001b[0mfinal_targets\u001b[0m \u001b[1;32mor\u001b[0m \u001b[1;33m(\u001b[0m\u001b[0mhandle\u001b[0m \u001b[1;32mand\u001b[0m \u001b[0mfeed_dict_tensor\u001b[0m\u001b[1;33m)\u001b[0m\u001b[1;33m:\u001b[0m\u001b[1;33m\u001b[0m\u001b[0m\n\u001b[0;32m   1119\u001b[0m       results = self._do_run(handle, final_targets, final_fetches,\n\u001b[1;32m-> 1120\u001b[1;33m                              feed_dict_tensor, options, run_metadata)\n\u001b[0m\u001b[0;32m   1121\u001b[0m     \u001b[1;32melse\u001b[0m\u001b[1;33m:\u001b[0m\u001b[1;33m\u001b[0m\u001b[0m\n\u001b[0;32m   1122\u001b[0m       \u001b[0mresults\u001b[0m \u001b[1;33m=\u001b[0m \u001b[1;33m[\u001b[0m\u001b[1;33m]\u001b[0m\u001b[1;33m\u001b[0m\u001b[0m\n",
      "\u001b[1;32m~\\AppData\\Local\\Continuum\\Anaconda3\\lib\\site-packages\\tensorflow\\python\\client\\session.py\u001b[0m in \u001b[0;36m_do_run\u001b[1;34m(self, handle, target_list, fetch_list, feed_dict, options, run_metadata)\u001b[0m\n\u001b[0;32m   1315\u001b[0m     \u001b[1;32mif\u001b[0m \u001b[0mhandle\u001b[0m \u001b[1;32mis\u001b[0m \u001b[1;32mNone\u001b[0m\u001b[1;33m:\u001b[0m\u001b[1;33m\u001b[0m\u001b[0m\n\u001b[0;32m   1316\u001b[0m       return self._do_call(_run_fn, self._session, feeds, fetches, targets,\n\u001b[1;32m-> 1317\u001b[1;33m                            options, run_metadata)\n\u001b[0m\u001b[0;32m   1318\u001b[0m     \u001b[1;32melse\u001b[0m\u001b[1;33m:\u001b[0m\u001b[1;33m\u001b[0m\u001b[0m\n\u001b[0;32m   1319\u001b[0m       \u001b[1;32mreturn\u001b[0m \u001b[0mself\u001b[0m\u001b[1;33m.\u001b[0m\u001b[0m_do_call\u001b[0m\u001b[1;33m(\u001b[0m\u001b[0m_prun_fn\u001b[0m\u001b[1;33m,\u001b[0m \u001b[0mself\u001b[0m\u001b[1;33m.\u001b[0m\u001b[0m_session\u001b[0m\u001b[1;33m,\u001b[0m \u001b[0mhandle\u001b[0m\u001b[1;33m,\u001b[0m \u001b[0mfeeds\u001b[0m\u001b[1;33m,\u001b[0m \u001b[0mfetches\u001b[0m\u001b[1;33m)\u001b[0m\u001b[1;33m\u001b[0m\u001b[0m\n",
      "\u001b[1;32m~\\AppData\\Local\\Continuum\\Anaconda3\\lib\\site-packages\\tensorflow\\python\\client\\session.py\u001b[0m in \u001b[0;36m_do_call\u001b[1;34m(self, fn, *args)\u001b[0m\n\u001b[0;32m   1321\u001b[0m   \u001b[1;32mdef\u001b[0m \u001b[0m_do_call\u001b[0m\u001b[1;33m(\u001b[0m\u001b[0mself\u001b[0m\u001b[1;33m,\u001b[0m \u001b[0mfn\u001b[0m\u001b[1;33m,\u001b[0m \u001b[1;33m*\u001b[0m\u001b[0margs\u001b[0m\u001b[1;33m)\u001b[0m\u001b[1;33m:\u001b[0m\u001b[1;33m\u001b[0m\u001b[0m\n\u001b[0;32m   1322\u001b[0m     \u001b[1;32mtry\u001b[0m\u001b[1;33m:\u001b[0m\u001b[1;33m\u001b[0m\u001b[0m\n\u001b[1;32m-> 1323\u001b[1;33m       \u001b[1;32mreturn\u001b[0m \u001b[0mfn\u001b[0m\u001b[1;33m(\u001b[0m\u001b[1;33m*\u001b[0m\u001b[0margs\u001b[0m\u001b[1;33m)\u001b[0m\u001b[1;33m\u001b[0m\u001b[0m\n\u001b[0m\u001b[0;32m   1324\u001b[0m     \u001b[1;32mexcept\u001b[0m \u001b[0merrors\u001b[0m\u001b[1;33m.\u001b[0m\u001b[0mOpError\u001b[0m \u001b[1;32mas\u001b[0m \u001b[0me\u001b[0m\u001b[1;33m:\u001b[0m\u001b[1;33m\u001b[0m\u001b[0m\n\u001b[0;32m   1325\u001b[0m       \u001b[0mmessage\u001b[0m \u001b[1;33m=\u001b[0m \u001b[0mcompat\u001b[0m\u001b[1;33m.\u001b[0m\u001b[0mas_text\u001b[0m\u001b[1;33m(\u001b[0m\u001b[0me\u001b[0m\u001b[1;33m.\u001b[0m\u001b[0mmessage\u001b[0m\u001b[1;33m)\u001b[0m\u001b[1;33m\u001b[0m\u001b[0m\n",
      "\u001b[1;32m~\\AppData\\Local\\Continuum\\Anaconda3\\lib\\site-packages\\tensorflow\\python\\client\\session.py\u001b[0m in \u001b[0;36m_run_fn\u001b[1;34m(session, feed_dict, fetch_list, target_list, options, run_metadata)\u001b[0m\n\u001b[0;32m   1300\u001b[0m           return tf_session.TF_Run(session, options,\n\u001b[0;32m   1301\u001b[0m                                    \u001b[0mfeed_dict\u001b[0m\u001b[1;33m,\u001b[0m \u001b[0mfetch_list\u001b[0m\u001b[1;33m,\u001b[0m \u001b[0mtarget_list\u001b[0m\u001b[1;33m,\u001b[0m\u001b[1;33m\u001b[0m\u001b[0m\n\u001b[1;32m-> 1302\u001b[1;33m                                    status, run_metadata)\n\u001b[0m\u001b[0;32m   1303\u001b[0m \u001b[1;33m\u001b[0m\u001b[0m\n\u001b[0;32m   1304\u001b[0m     \u001b[1;32mdef\u001b[0m \u001b[0m_prun_fn\u001b[0m\u001b[1;33m(\u001b[0m\u001b[0msession\u001b[0m\u001b[1;33m,\u001b[0m \u001b[0mhandle\u001b[0m\u001b[1;33m,\u001b[0m \u001b[0mfeed_dict\u001b[0m\u001b[1;33m,\u001b[0m \u001b[0mfetch_list\u001b[0m\u001b[1;33m)\u001b[0m\u001b[1;33m:\u001b[0m\u001b[1;33m\u001b[0m\u001b[0m\n",
      "\u001b[1;31mKeyboardInterrupt\u001b[0m: "
     ]
    }
   ],
   "source": [
    "model.fit(x=wav_data_loader.X, y=to_categorical(wav_data_loader.y), validation_split=0.15, epochs=20)\n",
    "\n",
    "# model.fit_generator(wav_data_generator.generator(), \n",
    "#                     steps_per_epoch=wav_data_generator.num_examples//wav_data_generator.batch_size,\n",
    "#                    workers=4)\n",
    "                    "
   ]
  },
  {
   "cell_type": "code",
   "execution_count": null,
   "metadata": {
    "collapsed": true
   },
   "outputs": [],
   "source": []
  },
  {
   "cell_type": "code",
   "execution_count": 21,
   "metadata": {
    "collapsed": true
   },
   "outputs": [],
   "source": [
    "model.save('model.h5')"
   ]
  },
  {
   "cell_type": "code",
   "execution_count": null,
   "metadata": {
    "collapsed": true
   },
   "outputs": [],
   "source": []
  }
 ],
 "metadata": {
  "anaconda-cloud": {},
  "kernelspec": {
   "display_name": "Python 3",
   "language": "python",
   "name": "python3"
  },
  "language_info": {
   "codemirror_mode": {
    "name": "ipython",
    "version": 3
   },
   "file_extension": ".py",
   "mimetype": "text/x-python",
   "name": "python",
   "nbconvert_exporter": "python",
   "pygments_lexer": "ipython3",
   "version": "3.6.2"
  }
 },
 "nbformat": 4,
 "nbformat_minor": 1
}
