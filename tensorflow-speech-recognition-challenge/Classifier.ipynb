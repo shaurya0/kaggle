{
 "cells": [
  {
   "cell_type": "code",
   "execution_count": 1,
   "metadata": {
    "collapsed": true
   },
   "outputs": [],
   "source": [
    "%load_ext autoreload\n",
    "%autoreload 2"
   ]
  },
  {
   "cell_type": "code",
   "execution_count": 2,
   "metadata": {},
   "outputs": [
    {
     "name": "stderr",
     "output_type": "stream",
     "text": [
      "Using TensorFlow backend.\n"
     ]
    }
   ],
   "source": [
    "import numpy as np\n",
    "import tensorflow as tf\n",
    "from keras.layers import Dense, Input, Conv2D, BatchNormalization\n",
    "from keras.layers import MaxPool2D, MaxPooling2D, Reshape, Dropout, SeparableConv2D\n",
    "from keras.models import Model\n",
    "from keras.utils import to_categorical\n",
    "import os\n",
    "\n",
    "# matplotlib for displaying the output\n",
    "import matplotlib.pyplot as plt\n",
    "import matplotlib.style as ms\n",
    "ms.use('seaborn-muted')\n",
    "%matplotlib inline\n",
    "from WavDataLoader import WavDataLoader\n",
    "from WavDataGenerator import WavDataGenerator"
   ]
  },
  {
   "cell_type": "code",
   "execution_count": 7,
   "metadata": {
    "collapsed": true
   },
   "outputs": [],
   "source": [
    "nx = 128\n",
    "ny = 32\n",
    "labels = ['bed', 'bird', 'cat', 'dog', 'down', 'eight', 'five', 'four', 'go', 'happy', 'house', 'left', 'marvin', 'nine', 'no', 'off', 'on', 'one', 'right', 'seven', 'sheila', 'silence', 'six', 'stop', 'three', 'tree', 'two', 'up', 'wow', 'yes', 'zero']\n",
    "num_labels = len(labels)"
   ]
  },
  {
   "cell_type": "code",
   "execution_count": 8,
   "metadata": {
    "collapsed": true
   },
   "outputs": [],
   "source": [
    "if os.name is 'nt':\n",
    "    data_dir = r'C:\\Development\\kaggle\\tensorflow-speech-recognition-challenge\\data\\train\\audio'\n",
    "else:\n",
    "    data_dir = r'/home/shaur141/Development/kaggle/tensorflow-speech-recognition-challenge/data/train/audio'\n",
    "    \n",
    "# wav_data_generator = WavDataGenerator(data_dir, labels, nx=nx, ny=ny, is_train=True, batch_size=32)\n",
    "wav_data_loader = WavDataLoader(data_dir, labels, nx=nx, ny=ny)\n"
   ]
  },
  {
   "cell_type": "code",
   "execution_count": 17,
   "metadata": {
    "collapsed": true
   },
   "outputs": [],
   "source": [
    "def build_model():\n",
    "    inputs = Input(shape=(nx, ny,1))\n",
    "#     x = Reshape((wav_data_loader.nx*wav_data_loader.ny,))(inputs)\n",
    "#     x = BatchNormalization()(inputs)\n",
    "    x = Conv2D(16,(3,3),strides=(1,1), activation='relu')(inputs)\n",
    "#     x = BatchNormalization()(x)\n",
    "    x = MaxPool2D(strides=(1,1))(x)\n",
    "    x = Dropout(0.25)(x)\n",
    "    x = Conv2D(32,(3,3),strides=(2,2), activation='relu')(x)\n",
    "    x = MaxPool2D(strides=(1,1))(x)\n",
    "    x = Dropout(0.25)(x)\n",
    "    x = Conv2D(64,(3,3),strides=(2,2), activation='relu')(x)    \n",
    "#     x = BatchNormalization()(x)\n",
    "    x = MaxPool2D(strides=(1,1))(x)\n",
    "    x = Dropout(0.25)(x)\n",
    "    x = SeparableConv2D(128,(3,3),strides=(2,2), activation='relu')(x) \n",
    "#     x = BatchNormalization()(x)\n",
    "    x = MaxPool2D(strides=(1,1))(x)       \n",
    "    x = Reshape((-1,))(x)\n",
    "    x = Dense(512, activation='relu')(x)\n",
    "    x = Dense(128, activation='relu')(x)\n",
    "#     x = Dense(128, activation='relu')(x)\n",
    "    predictions = Dense(num_labels, activation='softmax')(x)    \n",
    "    model = Model(inputs=inputs, outputs=predictions)\n",
    "    model.compile(optimizer='Nadam',\n",
    "              loss='categorical_crossentropy',\n",
    "              metrics=['accuracy'])\n",
    "    return model    "
   ]
  },
  {
   "cell_type": "code",
   "execution_count": 18,
   "metadata": {
    "collapsed": true
   },
   "outputs": [],
   "source": [
    "model = build_model()"
   ]
  },
  {
   "cell_type": "code",
   "execution_count": 19,
   "metadata": {},
   "outputs": [
    {
     "name": "stdout",
     "output_type": "stream",
     "text": [
      "_________________________________________________________________\n",
      "Layer (type)                 Output Shape              Param #   \n",
      "=================================================================\n",
      "input_4 (InputLayer)         (None, 128, 32, 1)        0         \n",
      "_________________________________________________________________\n",
      "conv2d_8 (Conv2D)            (None, 126, 30, 16)       160       \n",
      "_________________________________________________________________\n",
      "max_pooling2d_11 (MaxPooling (None, 125, 29, 16)       0         \n",
      "_________________________________________________________________\n",
      "dropout_8 (Dropout)          (None, 125, 29, 16)       0         \n",
      "_________________________________________________________________\n",
      "conv2d_9 (Conv2D)            (None, 62, 14, 32)        4640      \n",
      "_________________________________________________________________\n",
      "max_pooling2d_12 (MaxPooling (None, 61, 13, 32)        0         \n",
      "_________________________________________________________________\n",
      "dropout_9 (Dropout)          (None, 61, 13, 32)        0         \n",
      "_________________________________________________________________\n",
      "conv2d_10 (Conv2D)           (None, 30, 6, 64)         18496     \n",
      "_________________________________________________________________\n",
      "max_pooling2d_13 (MaxPooling (None, 29, 5, 64)         0         \n",
      "_________________________________________________________________\n",
      "dropout_10 (Dropout)         (None, 29, 5, 64)         0         \n",
      "_________________________________________________________________\n",
      "separable_conv2d_4 (Separabl (None, 14, 2, 128)        8896      \n",
      "_________________________________________________________________\n",
      "max_pooling2d_14 (MaxPooling (None, 13, 1, 128)        0         \n",
      "_________________________________________________________________\n",
      "reshape_4 (Reshape)          (None, 1664)              0         \n",
      "_________________________________________________________________\n",
      "dense_7 (Dense)              (None, 512)               852480    \n",
      "_________________________________________________________________\n",
      "dense_8 (Dense)              (None, 128)               65664     \n",
      "_________________________________________________________________\n",
      "dense_9 (Dense)              (None, 31)                3999      \n",
      "=================================================================\n",
      "Total params: 954,335\n",
      "Trainable params: 954,335\n",
      "Non-trainable params: 0\n",
      "_________________________________________________________________\n"
     ]
    }
   ],
   "source": [
    "model.summary()"
   ]
  },
  {
   "cell_type": "code",
   "execution_count": 20,
   "metadata": {},
   "outputs": [
    {
     "name": "stdout",
     "output_type": "stream",
     "text": [
      "Train on 56825 samples, validate on 10028 samples\n",
      "Epoch 1/20\n",
      "56825/56825 [==============================] - 37s - loss: 1.6937 - acc: 0.4967 - val_loss: 0.8307 - val_acc: 0.7514\n",
      "Epoch 2/20\n",
      "56825/56825 [==============================] - 36s - loss: 0.8097 - acc: 0.7544 - val_loss: 0.5595 - val_acc: 0.8291\n",
      "Epoch 3/20\n",
      "56825/56825 [==============================] - 37s - loss: 0.6379 - acc: 0.8080 - val_loss: 0.4503 - val_acc: 0.8630\n",
      "Epoch 4/20\n",
      "56825/56825 [==============================] - 37s - loss: 0.5625 - acc: 0.8300 - val_loss: 0.4330 - val_acc: 0.8713\n",
      "Epoch 5/20\n",
      "56825/56825 [==============================] - 37s - loss: 0.5152 - acc: 0.8443 - val_loss: 0.4160 - val_acc: 0.8759\n",
      "Epoch 6/20\n",
      "56825/56825 [==============================] - 37s - loss: 0.4859 - acc: 0.8522 - val_loss: 0.3872 - val_acc: 0.8837\n",
      "Epoch 7/20\n",
      "56825/56825 [==============================] - 37s - loss: 0.4724 - acc: 0.8582 - val_loss: 0.3964 - val_acc: 0.8824\n",
      "Epoch 8/20\n",
      "56825/56825 [==============================] - 36s - loss: 0.4483 - acc: 0.8655 - val_loss: 0.3733 - val_acc: 0.8903\n",
      "Epoch 9/20\n",
      "56825/56825 [==============================] - 36s - loss: 0.4394 - acc: 0.8673 - val_loss: 0.3910 - val_acc: 0.8866\n",
      "Epoch 10/20\n",
      "56825/56825 [==============================] - 36s - loss: 0.4297 - acc: 0.8695 - val_loss: 0.3828 - val_acc: 0.8883\n",
      "Epoch 11/20\n",
      "56825/56825 [==============================] - 37s - loss: 0.4249 - acc: 0.8722 - val_loss: 0.3870 - val_acc: 0.8888\n",
      "Epoch 12/20\n",
      "56825/56825 [==============================] - 37s - loss: 0.4127 - acc: 0.8751 - val_loss: 0.3706 - val_acc: 0.8919\n",
      "Epoch 13/20\n",
      "56825/56825 [==============================] - 37s - loss: 0.4071 - acc: 0.8763 - val_loss: 0.3625 - val_acc: 0.8984\n",
      "Epoch 14/20\n",
      "56825/56825 [==============================] - 37s - loss: 0.4049 - acc: 0.8779 - val_loss: 0.3650 - val_acc: 0.8926\n",
      "Epoch 15/20\n",
      "56825/56825 [==============================] - 37s - loss: 0.3949 - acc: 0.8812 - val_loss: 0.3754 - val_acc: 0.8913\n",
      "Epoch 16/20\n",
      "56825/56825 [==============================] - 37s - loss: 0.3900 - acc: 0.8830 - val_loss: 0.4047 - val_acc: 0.8861\n",
      "Epoch 17/20\n",
      "56825/56825 [==============================] - 37s - loss: 0.3881 - acc: 0.8817 - val_loss: 0.4050 - val_acc: 0.8828\n",
      "Epoch 18/20\n",
      "56825/56825 [==============================] - 37s - loss: 0.3900 - acc: 0.8818 - val_loss: 0.3469 - val_acc: 0.9021\n",
      "Epoch 19/20\n",
      "56825/56825 [==============================] - 37s - loss: 0.3819 - acc: 0.8827 - val_loss: 0.3649 - val_acc: 0.8971\n",
      "Epoch 20/20\n",
      "56825/56825 [==============================] - 36s - loss: 0.3703 - acc: 0.8881 - val_loss: 0.3545 - val_acc: 0.9025\n"
     ]
    },
    {
     "data": {
      "text/plain": [
       "<keras.callbacks.History at 0x7f0c64c1e9b0>"
      ]
     },
     "execution_count": 20,
     "metadata": {},
     "output_type": "execute_result"
    }
   ],
   "source": [
    "model.fit(x=wav_data_loader.X, y=to_categorical(wav_data_loader.y), validation_split=0.15, epochs=20)\n",
    "\n",
    "# model.fit_generator(wav_data_generator.generator(), \n",
    "#                     steps_per_epoch=wav_data_generator.num_examples//wav_data_generator.batch_size,\n",
    "#                    workers=4)\n",
    "                    "
   ]
  },
  {
   "cell_type": "code",
   "execution_count": null,
   "metadata": {
    "collapsed": true
   },
   "outputs": [],
   "source": []
  },
  {
   "cell_type": "code",
   "execution_count": 21,
   "metadata": {
    "collapsed": true
   },
   "outputs": [],
   "source": [
    "model.save('model.h5')"
   ]
  },
  {
   "cell_type": "code",
   "execution_count": null,
   "metadata": {
    "collapsed": true
   },
   "outputs": [],
   "source": []
  }
 ],
 "metadata": {
  "anaconda-cloud": {},
  "kernelspec": {
   "display_name": "Python 3",
   "language": "python",
   "name": "python3"
  },
  "language_info": {
   "codemirror_mode": {
    "name": "ipython",
    "version": 3
   },
   "file_extension": ".py",
   "mimetype": "text/x-python",
   "name": "python",
   "nbconvert_exporter": "python",
   "pygments_lexer": "ipython3",
   "version": "3.6.2"
  }
 },
 "nbformat": 4,
 "nbformat_minor": 1
}
