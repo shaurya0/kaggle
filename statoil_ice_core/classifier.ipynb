{
 "cells": [
  {
   "cell_type": "code",
   "execution_count": 1,
   "metadata": {},
   "outputs": [
    {
     "name": "stderr",
     "output_type": "stream",
     "text": [
      "Using TensorFlow backend.\n"
     ]
    }
   ],
   "source": [
    "%matplotlib inline\n",
    "\n",
    "import matplotlib\n",
    "import matplotlib.pyplot as plt\n",
    "import h5py\n",
    "import numpy as np\n",
    "from keras.preprocessing.image import ImageDataGenerator\n",
    "from keras.models import Sequential, Model\n",
    "from keras.layers import Convolution2D, MaxPooling2D, ZeroPadding2D, GlobalMaxPooling2D\n",
    "from keras.layers import Activation, Dropout, Flatten, Dense, Input, Conv2D\n",
    "from keras.layers.normalization import BatchNormalization\n",
    "from keras import optimizers\n",
    "from sklearn.preprocessing import MinMaxScaler\n",
    "from sklearn.model_selection import train_test_split\n",
    "from keras.utils import to_categorical\n",
    "import keras\n",
    "import pandas\n",
    "from enum import Enum\n",
    "import json\n",
    "import random\n",
    "import cv2\n",
    "from scipy.misc import toimage\n",
    "import pandas as pd\n",
    "from keras.preprocessing.image import ImageDataGenerator\n",
    "from keras.layers.merge import Concatenate\n",
    "from keras.models import Model\n",
    "from keras.callbacks import ModelCheckpoint, Callback, EarlyStopping\n",
    "\n",
    "# import utils"
   ]
  },
  {
   "cell_type": "code",
   "execution_count": 2,
   "metadata": {
    "collapsed": true
   },
   "outputs": [],
   "source": [
    "np.random.seed(100)\n",
    "train_file = 'data/train/train.json'\n",
    "test_file = 'data/test/test.json'\n",
    "IMG_HEIGHT = 75\n",
    "IMG_WIDTH = 75"
   ]
  },
  {
   "cell_type": "code",
   "execution_count": 37,
   "metadata": {
    "collapsed": true
   },
   "outputs": [],
   "source": [
    "def load_data_from_json(file_path, is_train_data=True):\n",
    "    data = pd.read_json(file_path)\n",
    "    data.inc_angle = data.inc_angle.replace('na', 0)\n",
    "    data.inc_angle = data.inc_angle.astype(float).fillna(0.0)\n",
    "    ids = data[\"id\"]\n",
    "    x_band1 = np.array([np.array(band).astype(np.float32).reshape(IMG_HEIGHT, IMG_WIDTH) for band in data[\"band_1\"]])\n",
    "    x_band2 = np.array([np.array(band).astype(np.float32).reshape(IMG_HEIGHT, IMG_WIDTH) for band in data[\"band_2\"]])\n",
    "    X = np.concatenate([x_band1[:, :, :, np.newaxis]\n",
    "                              , x_band2[:, :, :, np.newaxis]\n",
    "                             , ((x_band1+x_band2)/2)[:, :, :, np.newaxis]], axis=-1)\n",
    "    X_angle = np.array(data.inc_angle)\n",
    "    if is_train_data:\n",
    "        y = np.array(data[\"is_iceberg\"])\n",
    "    else:\n",
    "        y = None\n",
    "    return X, X_angle, y, ids"
   ]
  },
  {
   "cell_type": "code",
   "execution_count": 38,
   "metadata": {},
   "outputs": [],
   "source": [
    "X_train, X_angle_train, y_train, _ = load_data_from_json(train_file)"
   ]
  },
  {
   "cell_type": "code",
   "execution_count": 6,
   "metadata": {
    "collapsed": true
   },
   "outputs": [],
   "source": [
    "# n_samples, nx, ny, nz = X_train.shape\n",
    "# scaler = MinMaxScaler()\n",
    "# X_train = scaler.fit_transform(np.reshape(X_train, (n_samples, nx*ny*nz)))\n",
    "# X_train = np.reshape(X_train, (n_samples, nx, ny, nz))"
   ]
  },
  {
   "cell_type": "code",
   "execution_count": 8,
   "metadata": {
    "collapsed": true
   },
   "outputs": [],
   "source": [
    "train_generator = ImageDataGenerator(\n",
    "    rotation_range=90,\n",
    "    width_shift_range=0.5,\n",
    "    height_shift_range=0.5,    \n",
    "    zoom_range=0.3,        \n",
    "    horizontal_flip=True,\n",
    "    vertical_flip=True,\n",
    ")\n"
   ]
  },
  {
   "cell_type": "code",
   "execution_count": 23,
   "metadata": {
    "collapsed": true
   },
   "outputs": [],
   "source": [
    "def build_model():\n",
    "    bn_model = 0.0\n",
    "    p_activation = \"relu\"\n",
    "    input_1 = Input(shape=(75, 75, 3), name=\"X_1\")\n",
    "    input_2 = Input(shape=[1], name=\"angle\")\n",
    "    \n",
    "    img_1 = Conv2D(32, kernel_size = (3,3), activation=p_activation) ((BatchNormalization(momentum=bn_model))(input_1))\n",
    "    img_1 = Conv2D(32, kernel_size = (3,3), activation=p_activation)(input_1)\n",
    "    img_1 = MaxPooling2D((2,2)) (img_1)\n",
    "    img_1 = Dropout(0.2)(img_1)\n",
    "    img_1 = Conv2D(64, kernel_size = (3,3), activation=p_activation) (img_1)\n",
    "    img_1 = MaxPooling2D((2,2)) (img_1)\n",
    "    img_1 = Dropout(0.2)(img_1)\n",
    "    img_1 = Conv2D(128, kernel_size = (3,3), activation=p_activation) (img_1)\n",
    "    img_1 = MaxPooling2D((2,2)) (img_1)\n",
    "    img_1 = Dropout(0.2)(img_1)\n",
    "    img_1 = Conv2D(256, kernel_size = (3,3), activation=p_activation) (img_1)\n",
    "    img_1 = MaxPooling2D((2,2)) (img_1)\n",
    "    img_1 = Dropout(0.2)(img_1)\n",
    "    img_1 = GlobalMaxPooling2D() (img_1)\n",
    "    \n",
    "    \n",
    "    \n",
    "    img_2 = Conv2D(128, kernel_size = (3,3), activation=p_activation) ((BatchNormalization(momentum=bn_model))(input_1))\n",
    "    img_2 = BatchNormalization(momentum=0)(input_1)\n",
    "    img_2 = Conv2D(128, kernel_size = (3,3), activation=p_activation)(input_1)\n",
    "    img_2 = MaxPooling2D((2,2)) (img_2)\n",
    "    img_2 = Dropout(0.2)(img_2)\n",
    "    img_2 = GlobalMaxPooling2D() (img_2)\n",
    "    \n",
    "    img_concat =  (Concatenate()([img_1, img_2, BatchNormalization(momentum=bn_model)(input_2)]))\n",
    "#     img_concat =  Concatenate()([img_1, img_2, input_2])\n",
    "    \n",
    "    dense_layer = Dropout(0.5) (BatchNormalization(momentum=bn_model) ( Dense(256, activation=p_activation)(img_concat) ))\n",
    "    dense_layer = Dropout(0.5) (BatchNormalization(momentum=bn_model) ( Dense(64, activation=p_activation)(dense_layer) ))\n",
    "    \n",
    "#     dense_layer = Dropout(0.5)(img_concat)\n",
    "#     dense_layer = Dense(256, activation=p_activation)(dense_layer)\n",
    "#     dense_layer = Dropout(0.5)(dense_layer)\n",
    "#     dense_layer = Dense(64, activation=p_activation)(dense_layer)\n",
    "    output = Dense(1, activation=\"sigmoid\")(dense_layer)\n",
    "    \n",
    "    model = Model([input_1,input_2],  output)\n",
    "    optimizer = keras.optimizers.Adam(lr=0.001, beta_1=0.9, beta_2=0.999, epsilon=1e-08, decay=0.0)\n",
    "    model.compile(loss=\"binary_crossentropy\", optimizer=optimizer, metrics=[\"accuracy\"])\n",
    "    return model\n",
    "\n",
    "model = build_model()\n",
    "    "
   ]
  },
  {
   "cell_type": "code",
   "execution_count": 24,
   "metadata": {
    "collapsed": true
   },
   "outputs": [],
   "source": [
    "def get_callbacks(filepath, patience=2):\n",
    "#     es = EarlyStopping('val_loss', patience=patience, mode=\"min\")\n",
    "    msave = ModelCheckpoint(filepath, save_best_only=True)\n",
    "    return [msave]\n",
    "    "
   ]
  },
  {
   "cell_type": "code",
   "execution_count": null,
   "metadata": {
    "collapsed": true
   },
   "outputs": [],
   "source": [
    "def data_generator(generator, angle, batch_size):\n",
    "    img_generator = train_generator.flow(X_train, y_train, batch_size=batch_size, shuffle=False)\n",
    "    data_len = len(angle)\n",
    "    i = 0\n",
    "    while True:\n",
    "        images, labels = img_generator.next()\n",
    "        angles = np.zeros(data_len, dtype=np.float32)\n",
    "        if i + batch_size > data_len:\n",
    "            end = data_len - i\n",
    "            begin = (i+batch_size) - data_len\n",
    "            angles[:end] = angle[i:data_len]\n",
    "            angles[end:] = angle[:begin]\n",
    "        else:\n",
    "            angles = angle[i:i+batch_size]\n",
    "        \n",
    "        yield images, angles, labels\n",
    "        \n",
    "    \n",
    "    "
   ]
  },
  {
   "cell_type": "code",
   "execution_count": 26,
   "metadata": {},
   "outputs": [
    {
     "name": "stdout",
     "output_type": "stream",
     "text": [
      "Train on 1283 samples, validate on 321 samples\n",
      "Epoch 1/50\n",
      "1283/1283 [==============================] - 3s - loss: 0.8660 - acc: 0.6025 - val_loss: 8.6711 - val_acc: 0.3832\n",
      "Epoch 2/50\n",
      "1283/1283 [==============================] - 2s - loss: 0.7533 - acc: 0.6594 - val_loss: 5.5233 - val_acc: 0.6573\n",
      "Epoch 3/50\n",
      "1283/1283 [==============================] - 2s - loss: 0.6844 - acc: 0.6726 - val_loss: 10.3460 - val_acc: 0.3489\n",
      "Epoch 4/50\n",
      "1283/1283 [==============================] - 2s - loss: 0.5861 - acc: 0.7202 - val_loss: 7.8971 - val_acc: 0.4829\n",
      "Epoch 5/50\n",
      "1283/1283 [==============================] - 2s - loss: 0.5260 - acc: 0.7685 - val_loss: 5.5233 - val_acc: 0.6573\n",
      "Epoch 6/50\n",
      "1283/1283 [==============================] - 2s - loss: 0.5211 - acc: 0.7685 - val_loss: 5.2512 - val_acc: 0.6573\n",
      "Epoch 7/50\n",
      "1283/1283 [==============================] - 2s - loss: 0.4971 - acc: 0.7786 - val_loss: 0.9537 - val_acc: 0.8037\n",
      "Epoch 8/50\n",
      "1283/1283 [==============================] - 2s - loss: 0.4437 - acc: 0.7950 - val_loss: 10.4724 - val_acc: 0.3427\n",
      "Epoch 9/50\n",
      "1283/1283 [==============================] - 2s - loss: 0.4508 - acc: 0.7888 - val_loss: 0.7930 - val_acc: 0.6916\n",
      "Epoch 10/50\n",
      "1283/1283 [==============================] - 2s - loss: 0.4565 - acc: 0.7989 - val_loss: 5.5233 - val_acc: 0.6573\n",
      "Epoch 11/50\n",
      "1283/1283 [==============================] - 2s - loss: 0.4437 - acc: 0.8067 - val_loss: 5.5233 - val_acc: 0.6573\n",
      "Epoch 12/50\n",
      "1283/1283 [==============================] - 2s - loss: 0.4215 - acc: 0.8044 - val_loss: 4.6572 - val_acc: 0.4081\n",
      "Epoch 13/50\n",
      "1283/1283 [==============================] - 2s - loss: 0.4055 - acc: 0.8176 - val_loss: 7.2214 - val_acc: 0.4486\n",
      "Epoch 14/50\n",
      "1283/1283 [==============================] - 2s - loss: 0.3882 - acc: 0.8168 - val_loss: 3.7820 - val_acc: 0.4860\n",
      "Epoch 15/50\n",
      "1283/1283 [==============================] - 2s - loss: 0.3704 - acc: 0.8387 - val_loss: 4.9484 - val_acc: 0.6324\n",
      "Epoch 16/50\n",
      "1283/1283 [==============================] - 2s - loss: 0.3927 - acc: 0.8176 - val_loss: 0.5137 - val_acc: 0.8349\n",
      "Epoch 17/50\n",
      "1283/1283 [==============================] - 2s - loss: 0.3740 - acc: 0.8309 - val_loss: 1.3615 - val_acc: 0.5888\n",
      "Epoch 18/50\n",
      "1283/1283 [==============================] - 2s - loss: 0.3568 - acc: 0.8465 - val_loss: 5.3615 - val_acc: 0.6573\n",
      "Epoch 19/50\n",
      "1283/1283 [==============================] - 2s - loss: 0.3572 - acc: 0.8394 - val_loss: 1.5472 - val_acc: 0.7788\n",
      "Epoch 20/50\n",
      "1283/1283 [==============================] - 2s - loss: 0.3632 - acc: 0.8433 - val_loss: 0.4237 - val_acc: 0.8100\n",
      "Epoch 21/50\n",
      "1283/1283 [==============================] - 2s - loss: 0.3797 - acc: 0.8200 - val_loss: 1.2120 - val_acc: 0.7913\n",
      "Epoch 22/50\n",
      "1283/1283 [==============================] - 2s - loss: 0.3574 - acc: 0.8457 - val_loss: 3.9125 - val_acc: 0.4953\n",
      "Epoch 23/50\n",
      "1283/1283 [==============================] - 2s - loss: 0.3532 - acc: 0.8480 - val_loss: 0.7318 - val_acc: 0.7975\n",
      "Epoch 24/50\n",
      "1283/1283 [==============================] - 2s - loss: 0.3574 - acc: 0.8348 - val_loss: 2.8384 - val_acc: 0.7259\n",
      "Epoch 25/50\n",
      "1283/1283 [==============================] - 2s - loss: 0.3561 - acc: 0.8441 - val_loss: 4.6751 - val_acc: 0.6636\n",
      "Epoch 26/50\n",
      "1283/1283 [==============================] - 2s - loss: 0.3748 - acc: 0.8293 - val_loss: 1.8124 - val_acc: 0.8660\n",
      "Epoch 27/50\n",
      "1283/1283 [==============================] - 2s - loss: 0.3481 - acc: 0.8465 - val_loss: 5.4733 - val_acc: 0.6573\n",
      "Epoch 28/50\n",
      "1283/1283 [==============================] - 2s - loss: 0.3861 - acc: 0.8301 - val_loss: 4.5620 - val_acc: 0.6636\n",
      "Epoch 29/50\n",
      "1283/1283 [==============================] - 2s - loss: 0.3522 - acc: 0.8449 - val_loss: 2.0469 - val_acc: 0.7819\n",
      "Epoch 30/50\n",
      "1283/1283 [==============================] - 2s - loss: 0.3625 - acc: 0.8340 - val_loss: 4.5491 - val_acc: 0.5857\n",
      "Epoch 31/50\n",
      "1283/1283 [==============================] - 2s - loss: 0.3579 - acc: 0.8371 - val_loss: 4.7128 - val_acc: 0.6604\n",
      "Epoch 32/50\n",
      "1283/1283 [==============================] - 2s - loss: 0.3633 - acc: 0.8387 - val_loss: 0.3628 - val_acc: 0.9003\n",
      "Epoch 33/50\n",
      "1283/1283 [==============================] - 2s - loss: 0.3201 - acc: 0.8613 - val_loss: 4.6708 - val_acc: 0.6324\n",
      "Epoch 34/50\n",
      "1283/1283 [==============================] - 2s - loss: 0.3394 - acc: 0.8496 - val_loss: 0.5461 - val_acc: 0.8692\n",
      "Epoch 35/50\n",
      "1283/1283 [==============================] - 2s - loss: 0.3686 - acc: 0.8410 - val_loss: 5.2778 - val_acc: 0.6449\n",
      "Epoch 36/50\n",
      "1283/1283 [==============================] - 2s - loss: 0.3196 - acc: 0.8620 - val_loss: 2.4322 - val_acc: 0.7259\n",
      "Epoch 37/50\n",
      "1283/1283 [==============================] - 2s - loss: 0.3287 - acc: 0.8581 - val_loss: 0.3713 - val_acc: 0.8692\n",
      "Epoch 38/50\n",
      "1283/1283 [==============================] - 2s - loss: 0.3199 - acc: 0.8636 - val_loss: 3.7522 - val_acc: 0.7570\n",
      "Epoch 39/50\n",
      "1283/1283 [==============================] - 2s - loss: 0.3349 - acc: 0.8449 - val_loss: 1.3128 - val_acc: 0.8754\n",
      "Epoch 40/50\n",
      "1283/1283 [==============================] - 2s - loss: 0.3355 - acc: 0.8581 - val_loss: 4.1964 - val_acc: 0.6667\n",
      "Epoch 41/50\n",
      "1283/1283 [==============================] - 2s - loss: 0.3240 - acc: 0.8496 - val_loss: 1.7070 - val_acc: 0.7072\n",
      "Epoch 42/50\n",
      "1283/1283 [==============================] - 2s - loss: 0.3372 - acc: 0.8542 - val_loss: 0.7819 - val_acc: 0.7570\n",
      "Epoch 43/50\n",
      "1283/1283 [==============================] - 2s - loss: 0.3173 - acc: 0.8636 - val_loss: 1.4127 - val_acc: 0.8037\n",
      "Epoch 44/50\n",
      "1283/1283 [==============================] - 2s - loss: 0.3202 - acc: 0.8636 - val_loss: 5.3375 - val_acc: 0.6604\n",
      "Epoch 45/50\n",
      "1283/1283 [==============================] - 2s - loss: 0.2988 - acc: 0.8737 - val_loss: 1.6919 - val_acc: 0.8349\n",
      "Epoch 46/50\n",
      "1283/1283 [==============================] - 2s - loss: 0.3225 - acc: 0.8644 - val_loss: 0.6904 - val_acc: 0.8505\n",
      "Epoch 47/50\n",
      "1283/1283 [==============================] - 2s - loss: 0.3380 - acc: 0.8457 - val_loss: 2.9492 - val_acc: 0.5919\n",
      "Epoch 48/50\n",
      "1283/1283 [==============================] - 2s - loss: 0.3164 - acc: 0.8675 - val_loss: 3.0737 - val_acc: 0.7103\n",
      "Epoch 49/50\n",
      "1283/1283 [==============================] - 2s - loss: 0.3092 - acc: 0.8652 - val_loss: 1.4010 - val_acc: 0.8131\n",
      "Epoch 50/50\n",
      "1283/1283 [==============================] - 2s - loss: 0.3213 - acc: 0.8465 - val_loss: 0.4082 - val_acc: 0.8380\n"
     ]
    },
    {
     "data": {
      "text/plain": [
       "<keras.callbacks.History at 0x7f903a636748>"
      ]
     },
     "execution_count": 26,
     "metadata": {},
     "output_type": "execute_result"
    }
   ],
   "source": [
    "file_path = \"model.h5\"\n",
    "callbacks = get_callbacks(filepath=file_path, patience=10)\n",
    "batch_size=32\n",
    "\n",
    "train_gen = train_generator.flow(X_train, y_train, batch_size=batch_size, shuffle=False)\n",
    "# model.fit(x=[X_train, X_angle_train], y=y_train, batch_size=batch_size,\n",
    "#                     validation_split=0.2,\n",
    "#                     epochs=50,\n",
    "#                     callbacks=callbacks\n",
    "#                    )\n",
    "\n",
    "model.fit_generator(generator=train_gen\n",
    ")\n",
    "\n",
    "# model.fit(X_train, y_train, epochs=25,\n",
    "#         validation_split=0.15, batch_size=32\n",
    "#          , callbacks=callbacks)"
   ]
  },
  {
   "cell_type": "code",
   "execution_count": 39,
   "metadata": {},
   "outputs": [
    {
     "name": "stdout",
     "output_type": "stream",
     "text": [
      "8400/8424 [============================>.] - ETA: 0s"
     ]
    }
   ],
   "source": [
    "model.load_weights(filepath=file_path)\n",
    "X_test, X_angle_test, _, test_ids = load_data_from_json(test_file, is_train_data=False)\n",
    "prediction = model.predict([X_test, X_angle_test], verbose=1, batch_size=200)\n"
   ]
  },
  {
   "cell_type": "code",
   "execution_count": 40,
   "metadata": {},
   "outputs": [],
   "source": [
    "submission = pd.DataFrame({'id': test_ids, 'is_iceberg': prediction.reshape((prediction.shape[0]))})\n",
    "submission.to_csv(\"submission.csv\", index=False)\n"
   ]
  },
  {
   "cell_type": "code",
   "execution_count": null,
   "metadata": {
    "collapsed": true
   },
   "outputs": [],
   "source": []
  }
 ],
 "metadata": {
  "kernelspec": {
   "display_name": "Python 3",
   "language": "python",
   "name": "python3"
  },
  "language_info": {
   "codemirror_mode": {
    "name": "ipython",
    "version": 3
   },
   "file_extension": ".py",
   "mimetype": "text/x-python",
   "name": "python",
   "nbconvert_exporter": "python",
   "pygments_lexer": "ipython3",
   "version": "3.6.2"
  }
 },
 "nbformat": 4,
 "nbformat_minor": 2
}
