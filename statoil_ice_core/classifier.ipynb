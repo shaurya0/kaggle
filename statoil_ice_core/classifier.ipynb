{
 "cells": [
  {
   "cell_type": "code",
   "execution_count": null,
   "metadata": {},
   "outputs": [],
   "source": [
    "%matplotlib inline\n",
    "\n",
    "import matplotlib\n",
    "import matplotlib.pyplot as plt\n",
    "import h5py\n",
    "import numpy as np\n",
    "from keras.preprocessing.image import ImageDataGenerator\n",
    "from keras.models import Sequential, Model\n",
    "from keras.layers import Convolution2D, MaxPooling2D, ZeroPadding2D, GlobalMaxPooling2D\n",
    "from keras.layers import Activation, Dropout, Flatten, Dense, Input, Conv2D\n",
    "from keras.layers.normalization import BatchNormalization\n",
    "from keras import optimizers\n",
    "from sklearn.preprocessing import MinMaxScaler\n",
    "from sklearn.model_selection import train_test_split\n",
    "from keras.utils import to_categorical\n",
    "import keras\n",
    "import pandas\n",
    "from enum import Enum\n",
    "import json\n",
    "import random\n",
    "import cv2\n",
    "from scipy.misc import toimage\n",
    "import pandas as pd\n",
    "from keras.preprocessing.image import ImageDataGenerator\n",
    "from keras.layers.merge import Concatenate\n",
    "from keras.models import Model\n",
    "from keras.callbacks import ModelCheckpoint, Callback, EarlyStopping\n",
    "\n",
    "# import utils"
   ]
  },
  {
   "cell_type": "code",
   "execution_count": null,
   "metadata": {
    "collapsed": true
   },
   "outputs": [],
   "source": [
    "np.random.seed(100)\n",
    "train_file = 'data/train/train.json'\n",
    "test_file = 'data/test/test.json'\n",
    "IMG_HEIGHT = 75\n",
    "IMG_WIDTH = 75"
   ]
  },
  {
   "cell_type": "code",
   "execution_count": null,
   "metadata": {
    "collapsed": true
   },
   "outputs": [],
   "source": [
    "def grayscale_to_rgb(img):\n",
    "    return cv2.cvtColor(img,cv2.COLOR_GRAY2RGB)"
   ]
  },
  {
   "cell_type": "code",
   "execution_count": null,
   "metadata": {
    "collapsed": true
   },
   "outputs": [],
   "source": [
    "train_data = pd.read_json(train_file)\n",
    "train_data.inc_angle = train_data.inc_angle.replace('na', 0)\n",
    "train_data.inc_angle = train_data.inc_angle.astype(float).fillna(0.0)"
   ]
  },
  {
   "cell_type": "code",
   "execution_count": null,
   "metadata": {},
   "outputs": [],
   "source": [
    "x_band1 = np.array([np.array(band).astype(np.float32).reshape(75, 75) for band in train_data[\"band_1\"]])\n",
    "x_band2 = np.array([np.array(band).astype(np.float32).reshape(75, 75) for band in train_data[\"band_2\"]])\n",
    "X_train = np.concatenate([x_band1[:, :, :, np.newaxis]\n",
    "                          , x_band2[:, :, :, np.newaxis]\n",
    "                         , ((x_band1+x_band2)/2)[:, :, :, np.newaxis]], axis=-1)\n",
    "X_angle_train = np.array(train_data.inc_angle)\n",
    "y_train = np.array(train_data[\"is_iceberg\"])"
   ]
  },
  {
   "cell_type": "code",
   "execution_count": null,
   "metadata": {
    "collapsed": true
   },
   "outputs": [],
   "source": [
    "# X_train, X_valid, X_angle_train, X_angle_valid, y_train, y_valid = train_test_split(X_train\n",
    "#                     , X_angle_train, y_train, random_state=123, train_size=0.85)"
   ]
  },
  {
   "cell_type": "code",
   "execution_count": null,
   "metadata": {},
   "outputs": [],
   "source": [
    "optimizer = keras.optimizers.Nadam()"
   ]
  },
  {
   "cell_type": "code",
   "execution_count": null,
   "metadata": {},
   "outputs": [],
   "source": [
    "def build_model(optimizer, input_shape):\n",
    "    input_img = Input(shape=input_shape, name=\"img\")\n",
    "#     input_angle = Input(shape=(1), name=\"angle\")\n",
    "    activation = 'relu'\n",
    "    x = Conv2D(32, (3,3), activation=activation)(input_img)\n",
    "    x = BatchNormalization()(x)\n",
    "    x = Conv2D(64, (3,3), activation=activation)(x)\n",
    "    x = MaxPooling2D((2,2))(x)\n",
    "    x = Dropout(0.2)(x)\n",
    "    x = Conv2D(128, (3,3), activation=activation)(x)\n",
    "    x = MaxPooling2D((2,2))(x)\n",
    "    x = Dropout(0.2)(x)\n",
    "#     x = GlobalMaxPooling2D()(x)\n",
    "#     x = Conv2D(256, (3,3), activation=activation)(x)\n",
    "    x = Flatten()(x)\n",
    "    x = Dense(1024, activation=activation)(x)\n",
    "    x = Dropout(0.2)(x)\n",
    "    x = Dense(128, activation=activation)(x)\n",
    "    output = Dense(1, activation=\"sigmoid\")(x)\n",
    "    \n",
    "    model = Model([input_img], output)\n",
    "    model.compile(loss='binary_crossentropy',\n",
    "              optimizer=optimizer,\n",
    "              metrics=['accuracy'])\n",
    "    return model\n",
    "\n",
    "model = build_model(optimizer, (IMG_WIDTH, IMG_HEIGHT, 3))\n",
    "    "
   ]
  },
  {
   "cell_type": "code",
   "execution_count": null,
   "metadata": {
    "collapsed": true
   },
   "outputs": [],
   "source": [
    "def get_callbacks(filepath, patience=2):\n",
    "    es = EarlyStopping('val_loss', patience=patience, mode=\"min\")\n",
    "    msave = ModelCheckpoint(filepath, save_best_only=True)\n",
    "    return [es, msave]\n",
    "    "
   ]
  },
  {
   "cell_type": "code",
   "execution_count": null,
   "metadata": {},
   "outputs": [],
   "source": [
    "file_path = \".model_weights.hdf5\"\n",
    "callbacks = get_callbacks(filepath=file_path, patience=3)\n",
    "batch_size=32\n",
    "model.fit(x=X_train, y=y_train, batch_size=batch_size,\n",
    "#                     validation_split=0.2,\n",
    "                    epochs=20,\n",
    "                    callbacks=callbacks\n",
    "                   )\n",
    "\n",
    "# model.fit(X_train, y_train, epochs=25,\n",
    "#         validation_split=0.15, batch_size=32\n",
    "#          , callbacks=callbacks)"
   ]
  },
  {
   "cell_type": "code",
   "execution_count": null,
   "metadata": {
    "collapsed": true
   },
   "outputs": [],
   "source": []
  }
 ],
 "metadata": {
  "kernelspec": {
   "display_name": "Python 3",
   "language": "python",
   "name": "python3"
  },
  "language_info": {
   "codemirror_mode": {
    "name": "ipython",
    "version": 3
   },
   "file_extension": ".py",
   "mimetype": "text/x-python",
   "name": "python",
   "nbconvert_exporter": "python",
   "pygments_lexer": "ipython3",
   "version": "3.6.1"
  }
 },
 "nbformat": 4,
 "nbformat_minor": 2
}
