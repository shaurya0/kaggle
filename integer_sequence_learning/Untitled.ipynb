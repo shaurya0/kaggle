{
 "cells": [
  {
   "cell_type": "code",
   "execution_count": 2,
   "metadata": {
    "collapsed": false
   },
   "outputs": [
    {
     "name": "stderr",
     "output_type": "stream",
     "text": [
      "Using TensorFlow backend.\n"
     ]
    }
   ],
   "source": [
    "%matplotlib inline\n",
    "\n",
    "import sys\n",
    "import csv\n",
    "import numpy as np\n",
    "import os\n",
    "import glob\n",
    "\n",
    "sys.path.append('../utils')\n",
    "import pandas as pd\n",
    "import data_utils\n",
    "import matplotlib\n",
    "import matplotlib.pyplot as plt\n",
    "\n",
    "%reload_ext autoreload\n",
    "%autoreload 1\n",
    "%aimport data_utils"
   ]
  },
  {
   "cell_type": "code",
   "execution_count": 48,
   "metadata": {
    "collapsed": false
   },
   "outputs": [],
   "source": [
    "training_data_path = 'data/train.csv'\n",
    "submission_data_path = 'data/test.csv'\n",
    "# df = pd.read_csv(training_data_path)\n",
    "# training_data = [np.array(series.split(','), dtype='S512') for series in df['Sequence']]   \n"
   ]
  },
  {
   "cell_type": "code",
   "execution_count": 49,
   "metadata": {
    "collapsed": false
   },
   "outputs": [],
   "source": [
    "from collections import Counter\n",
    "def create_lookup_table():    \n",
    "    def populate_table_from_data_frame(data_frame, lookup_table):\n",
    "        for series in data_frame['Sequence']:\n",
    "            sequence = series.split(',')\n",
    "            for integer in sequence:\n",
    "                lookup_table[integer] += 1        \n",
    "                \n",
    "    train_df = pd.read_csv(training_data_path)\n",
    "    submission_df = pd.read_csv(submission_data_path)\n",
    "    lookup_table = Counter()\n",
    "    populate_table_from_data_frame(train_df, lookup_table)\n",
    "    populate_table_from_data_frame(submission_df, lookup_table)\n",
    "    return lookup_table\n",
    "\n",
    "lookup_table = create_lookup_table()\n"
   ]
  },
  {
   "cell_type": "code",
   "execution_count": 50,
   "metadata": {
    "collapsed": false
   },
   "outputs": [
    {
     "data": {
      "text/plain": [
       "[('1', 797831), ('0', 586087), ('2', 438844), ('3', 324774)]"
      ]
     },
     "execution_count": 50,
     "metadata": {},
     "output_type": "execute_result"
    }
   ],
   "source": [
    "lookup_table.most_common(4)\n"
   ]
  }
 ],
 "metadata": {
  "anaconda-cloud": {},
  "kernelspec": {
   "display_name": "Python [Root]",
   "language": "python",
   "name": "Python [Root]"
  },
  "language_info": {
   "codemirror_mode": {
    "name": "ipython",
    "version": 3
   },
   "file_extension": ".py",
   "mimetype": "text/x-python",
   "name": "python",
   "nbconvert_exporter": "python",
   "pygments_lexer": "ipython3",
   "version": "3.5.2"
  }
 },
 "nbformat": 4,
 "nbformat_minor": 0
}
