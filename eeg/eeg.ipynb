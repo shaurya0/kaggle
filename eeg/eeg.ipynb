{
 "cells": [
  {
   "cell_type": "code",
   "execution_count": 7,
   "metadata": {
    "collapsed": false
   },
   "outputs": [],
   "source": [
    "import csv\n",
    "import keras\n",
    "import numpy as np\n",
    "import os\n",
    "import glob"
   ]
  },
  {
   "cell_type": "code",
   "execution_count": 8,
   "metadata": {
    "collapsed": false
   },
   "outputs": [],
   "source": [
    "train_data_path = os.path.join('data', 'train')\n",
    "submission_data_path = os.path.join('data', 'test')"
   ]
  },
  {
   "cell_type": "code",
   "execution_count": null,
   "metadata": {
    "collapsed": true
   },
   "outputs": [],
   "source": [
    "def get_train_files(train_dir_path):\n",
    "    train_files = glob.glob(os.path.join(train_dir_path, '*.csv'))\n",
    "    train_files_it = iter(train_files)\n",
    "    train_files = list()\n",
    "    for f in train_files_it:\n",
    "        train_files.append( (f, next(train_files_it)) )\n",
    "    return train_files"
   ]
  },
  {
   "cell_type": "code",
   "execution_count": 32,
   "metadata": {
    "collapsed": false
   },
   "outputs": [],
   "source": [
    "def load_data(file_path):\n",
    "    tmp = np.loadtxt(file_path, delimiter=',', dtype=np.int32, skiprows=1, usecols=tuple(range(1,31)))\n",
    "    return tmp\n",
    "\n",
    "def load_labels(file_path):\n",
    "    tmp = np.loadtxt(file_path, delimiter=',', dtype=np.int32, skiprows=1, usecols=tuple(range(1,7)))\n",
    "    return tmp"
   ]
  },
  {
   "cell_type": "code",
   "execution_count": 37,
   "metadata": {
    "collapsed": false
   },
   "outputs": [],
   "source": [
    "from sklearn import preprocessing\n",
    "# def create_scaler(train_files):\n"
   ]
  },
  {
   "cell_type": "code",
   "execution_count": 39,
   "metadata": {
    "collapsed": false
   },
   "outputs": [
    {
     "name": "stderr",
     "output_type": "stream",
     "text": [
      "C:\\Users\\shaurya\\Anaconda3\\lib\\site-packages\\sklearn\\utils\\validation.py:429: DataConversionWarning: Data with input dtype int32 was converted to float64 by StandardScaler.\n",
      "  warnings.warn(msg, _DataConversionWarning)\n",
      "ERROR:root:Internal Python error in the inspect module.\n",
      "Below is the traceback from this internal error.\n",
      "\n",
      "\n",
      "KeyboardInterrupt\n",
      "\n"
     ]
    }
   ],
   "source": [
    "import pickle\n",
    "scaler = preprocessing.StandardScaler().fit(raw_data_as_array)\n",
    "scaler_file_path = os.path.join('data', 'scaler.pkl')\n",
    "with open(pickle_file_path, 'wb') as fid:\n",
    "    pickle.dump(scaler, fid)"
   ]
  },
  {
   "cell_type": "code",
   "execution_count": null,
   "metadata": {
    "collapsed": true
   },
   "outputs": [],
   "source": [
    "def load_scaler(scaler_filos.path.isfileeee.path.isfile(scaler_file, train_dir_path=train_data_path):\n",
    "        print('found scaler file {}, unpickling'.format(scaler_file))\n",
    "        with open(scaler_file, 'rb') as fid:\n",
    "        return pickle.load(fid)\n",
    "    else:\n",
    "        print('scaler file not found, creating scaler object')\n",
    "        train_files = get_train_files(train_data_path)\n",
    "        raw_data = list()\n",
    "        for (data_file, label_file) in train_files:\n",
    "            raw_data.append(load_data(data_file))\n",
    "        raw_data_as_array = np.concatenate(raw_data)\n",
    "        scaler = preprocessing.StandardScaler().fit(raw_data_as_array)\n",
    "        scaler_file_path = os.path.join('data', 'scaler.pkl')\n",
    "        with open(pickle_file_path, 'wb') as fid:\n",
    "            pickle.dump(scaler, fid)"
   ]
  }
 ],
 "metadata": {
  "anaconda-cloud": {},
  "kernelspec": {
   "display_name": "Python [conda root]",
   "language": "python",
   "name": "conda-root-py"
  },
  "language_info": {
   "codemirror_mode": {
    "name": "ipython",
    "version": 3
   },
   "file_extension": ".py",
   "mimetype": "text/x-python",
   "name": "python",
   "nbconvert_exporter": "python",
   "pygments_lexer": "ipython3",
   "version": "3.5.2"
  }
 },
 "nbformat": 4,
 "nbformat_minor": 1
}
